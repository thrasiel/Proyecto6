{
 "cells": [
  {
   "cell_type": "markdown",
   "metadata": {},
   "source": [
    "# Proyecto Sprint 13: Métodos Numéricos\n",
    "\n",
    "El servicio de venta de autos usados Rusty Bargain está desarrollando una aplicación para atraer nuevos clientes. Gracias a esa app, puedes averiguar rápidamente el valor de mercado de tu coche. Tienes acceso al historial: especificaciones técnicas, versiones de equipamiento y precios. Tienes que crear un modelo que determine el valor de mercado.\n",
    "A Rusty Bargain le interesa:\n",
    "- la calidad de la predicción;\n",
    "- la velocidad de la predicción;\n",
    "- el tiempo requerido para el entrenamiento"
   ]
  },
  {
   "cell_type": "markdown",
   "metadata": {},
   "source": [
    "## Preparación de datos"
   ]
  },
  {
   "cell_type": "markdown",
   "metadata": {},
   "source": [
    "Iniciaremos con la carga de librerías para el proyecto."
   ]
  },
  {
   "cell_type": "markdown",
   "metadata": {},
   "source": [
    "### Inicialización"
   ]
  },
  {
   "cell_type": "code",
   "execution_count": 1,
   "metadata": {},
   "outputs": [],
   "source": [
    "import pandas as pd\n",
    "import numpy as np\n",
    "from sklearn.tree import DecisionTreeRegressor\n",
    "from sklearn.model_selection import train_test_split, GridSearchCV\n",
    "from sklearn.ensemble import RandomForestRegressor\n",
    "from sklearn.linear_model import LinearRegression\n",
    "from sklearn.preprocessing import OrdinalEncoder, StandardScaler\n",
    "from sklearn.metrics import mean_squared_error\n",
    "import lightgbm as lgb\n",
    "from lightgbm import LGBMRegressor\n",
    "from catboost import Pool, CatBoostRegressor\n",
    "\n"
   ]
  },
  {
   "cell_type": "markdown",
   "metadata": {},
   "source": [
    "Continuamos con la carga del dataset.\n",
    "\n",
    "\n",
    "### Carga de Datos"
   ]
  },
  {
   "cell_type": "code",
   "execution_count": 2,
   "metadata": {
    "scrolled": false
   },
   "outputs": [
    {
     "name": "stdout",
     "output_type": "stream",
     "text": [
      "<class 'pandas.core.frame.DataFrame'>\n",
      "RangeIndex: 354369 entries, 0 to 354368\n",
      "Data columns (total 16 columns):\n",
      " #   Column             Non-Null Count   Dtype \n",
      "---  ------             --------------   ----- \n",
      " 0   DateCrawled        354369 non-null  object\n",
      " 1   Price              354369 non-null  int64 \n",
      " 2   VehicleType        316879 non-null  object\n",
      " 3   RegistrationYear   354369 non-null  int64 \n",
      " 4   Gearbox            334536 non-null  object\n",
      " 5   Power              354369 non-null  int64 \n",
      " 6   Model              334664 non-null  object\n",
      " 7   Mileage            354369 non-null  int64 \n",
      " 8   RegistrationMonth  354369 non-null  int64 \n",
      " 9   FuelType           321474 non-null  object\n",
      " 10  Brand              354369 non-null  object\n",
      " 11  NotRepaired        283215 non-null  object\n",
      " 12  DateCreated        354369 non-null  object\n",
      " 13  NumberOfPictures   354369 non-null  int64 \n",
      " 14  PostalCode         354369 non-null  int64 \n",
      " 15  LastSeen           354369 non-null  object\n",
      "dtypes: int64(7), object(9)\n",
      "memory usage: 43.3+ MB\n"
     ]
    },
    {
     "data": {
      "text/html": [
       "<div>\n",
       "<style scoped>\n",
       "    .dataframe tbody tr th:only-of-type {\n",
       "        vertical-align: middle;\n",
       "    }\n",
       "\n",
       "    .dataframe tbody tr th {\n",
       "        vertical-align: top;\n",
       "    }\n",
       "\n",
       "    .dataframe thead th {\n",
       "        text-align: right;\n",
       "    }\n",
       "</style>\n",
       "<table border=\"1\" class=\"dataframe\">\n",
       "  <thead>\n",
       "    <tr style=\"text-align: right;\">\n",
       "      <th></th>\n",
       "      <th>DateCrawled</th>\n",
       "      <th>Price</th>\n",
       "      <th>VehicleType</th>\n",
       "      <th>RegistrationYear</th>\n",
       "      <th>Gearbox</th>\n",
       "      <th>Power</th>\n",
       "      <th>Model</th>\n",
       "      <th>Mileage</th>\n",
       "      <th>RegistrationMonth</th>\n",
       "      <th>FuelType</th>\n",
       "      <th>Brand</th>\n",
       "      <th>NotRepaired</th>\n",
       "      <th>DateCreated</th>\n",
       "      <th>NumberOfPictures</th>\n",
       "      <th>PostalCode</th>\n",
       "      <th>LastSeen</th>\n",
       "    </tr>\n",
       "  </thead>\n",
       "  <tbody>\n",
       "    <tr>\n",
       "      <th>0</th>\n",
       "      <td>24/03/2016 11:52</td>\n",
       "      <td>480</td>\n",
       "      <td>NaN</td>\n",
       "      <td>1993</td>\n",
       "      <td>manual</td>\n",
       "      <td>0</td>\n",
       "      <td>golf</td>\n",
       "      <td>150000</td>\n",
       "      <td>0</td>\n",
       "      <td>petrol</td>\n",
       "      <td>volkswagen</td>\n",
       "      <td>NaN</td>\n",
       "      <td>24/03/2016 00:00</td>\n",
       "      <td>0</td>\n",
       "      <td>70435</td>\n",
       "      <td>07/04/2016 03:16</td>\n",
       "    </tr>\n",
       "    <tr>\n",
       "      <th>1</th>\n",
       "      <td>24/03/2016 10:58</td>\n",
       "      <td>18300</td>\n",
       "      <td>coupe</td>\n",
       "      <td>2011</td>\n",
       "      <td>manual</td>\n",
       "      <td>190</td>\n",
       "      <td>NaN</td>\n",
       "      <td>125000</td>\n",
       "      <td>5</td>\n",
       "      <td>gasoline</td>\n",
       "      <td>audi</td>\n",
       "      <td>yes</td>\n",
       "      <td>24/03/2016 00:00</td>\n",
       "      <td>0</td>\n",
       "      <td>66954</td>\n",
       "      <td>07/04/2016 01:46</td>\n",
       "    </tr>\n",
       "    <tr>\n",
       "      <th>2</th>\n",
       "      <td>14/03/2016 12:52</td>\n",
       "      <td>9800</td>\n",
       "      <td>suv</td>\n",
       "      <td>2004</td>\n",
       "      <td>auto</td>\n",
       "      <td>163</td>\n",
       "      <td>grand</td>\n",
       "      <td>125000</td>\n",
       "      <td>8</td>\n",
       "      <td>gasoline</td>\n",
       "      <td>jeep</td>\n",
       "      <td>NaN</td>\n",
       "      <td>14/03/2016 00:00</td>\n",
       "      <td>0</td>\n",
       "      <td>90480</td>\n",
       "      <td>05/04/2016 12:47</td>\n",
       "    </tr>\n",
       "    <tr>\n",
       "      <th>3</th>\n",
       "      <td>17/03/2016 16:54</td>\n",
       "      <td>1500</td>\n",
       "      <td>small</td>\n",
       "      <td>2001</td>\n",
       "      <td>manual</td>\n",
       "      <td>75</td>\n",
       "      <td>golf</td>\n",
       "      <td>150000</td>\n",
       "      <td>6</td>\n",
       "      <td>petrol</td>\n",
       "      <td>volkswagen</td>\n",
       "      <td>no</td>\n",
       "      <td>17/03/2016 00:00</td>\n",
       "      <td>0</td>\n",
       "      <td>91074</td>\n",
       "      <td>17/03/2016 17:40</td>\n",
       "    </tr>\n",
       "    <tr>\n",
       "      <th>4</th>\n",
       "      <td>31/03/2016 17:25</td>\n",
       "      <td>3600</td>\n",
       "      <td>small</td>\n",
       "      <td>2008</td>\n",
       "      <td>manual</td>\n",
       "      <td>69</td>\n",
       "      <td>fabia</td>\n",
       "      <td>90000</td>\n",
       "      <td>7</td>\n",
       "      <td>gasoline</td>\n",
       "      <td>skoda</td>\n",
       "      <td>no</td>\n",
       "      <td>31/03/2016 00:00</td>\n",
       "      <td>0</td>\n",
       "      <td>60437</td>\n",
       "      <td>06/04/2016 10:17</td>\n",
       "    </tr>\n",
       "    <tr>\n",
       "      <th>...</th>\n",
       "      <td>...</td>\n",
       "      <td>...</td>\n",
       "      <td>...</td>\n",
       "      <td>...</td>\n",
       "      <td>...</td>\n",
       "      <td>...</td>\n",
       "      <td>...</td>\n",
       "      <td>...</td>\n",
       "      <td>...</td>\n",
       "      <td>...</td>\n",
       "      <td>...</td>\n",
       "      <td>...</td>\n",
       "      <td>...</td>\n",
       "      <td>...</td>\n",
       "      <td>...</td>\n",
       "      <td>...</td>\n",
       "    </tr>\n",
       "    <tr>\n",
       "      <th>354364</th>\n",
       "      <td>21/03/2016 09:50</td>\n",
       "      <td>0</td>\n",
       "      <td>NaN</td>\n",
       "      <td>2005</td>\n",
       "      <td>manual</td>\n",
       "      <td>0</td>\n",
       "      <td>colt</td>\n",
       "      <td>150000</td>\n",
       "      <td>7</td>\n",
       "      <td>petrol</td>\n",
       "      <td>mitsubishi</td>\n",
       "      <td>yes</td>\n",
       "      <td>21/03/2016 00:00</td>\n",
       "      <td>0</td>\n",
       "      <td>2694</td>\n",
       "      <td>21/03/2016 10:42</td>\n",
       "    </tr>\n",
       "    <tr>\n",
       "      <th>354365</th>\n",
       "      <td>14/03/2016 17:48</td>\n",
       "      <td>2200</td>\n",
       "      <td>NaN</td>\n",
       "      <td>2005</td>\n",
       "      <td>NaN</td>\n",
       "      <td>0</td>\n",
       "      <td>NaN</td>\n",
       "      <td>20000</td>\n",
       "      <td>1</td>\n",
       "      <td>NaN</td>\n",
       "      <td>sonstige_autos</td>\n",
       "      <td>NaN</td>\n",
       "      <td>14/03/2016 00:00</td>\n",
       "      <td>0</td>\n",
       "      <td>39576</td>\n",
       "      <td>06/04/2016 00:46</td>\n",
       "    </tr>\n",
       "    <tr>\n",
       "      <th>354366</th>\n",
       "      <td>05/03/2016 19:56</td>\n",
       "      <td>1199</td>\n",
       "      <td>convertible</td>\n",
       "      <td>2000</td>\n",
       "      <td>auto</td>\n",
       "      <td>101</td>\n",
       "      <td>fortwo</td>\n",
       "      <td>125000</td>\n",
       "      <td>3</td>\n",
       "      <td>petrol</td>\n",
       "      <td>smart</td>\n",
       "      <td>no</td>\n",
       "      <td>05/03/2016 00:00</td>\n",
       "      <td>0</td>\n",
       "      <td>26135</td>\n",
       "      <td>11/03/2016 18:17</td>\n",
       "    </tr>\n",
       "    <tr>\n",
       "      <th>354367</th>\n",
       "      <td>19/03/2016 18:57</td>\n",
       "      <td>9200</td>\n",
       "      <td>bus</td>\n",
       "      <td>1996</td>\n",
       "      <td>manual</td>\n",
       "      <td>102</td>\n",
       "      <td>transporter</td>\n",
       "      <td>150000</td>\n",
       "      <td>3</td>\n",
       "      <td>gasoline</td>\n",
       "      <td>volkswagen</td>\n",
       "      <td>no</td>\n",
       "      <td>19/03/2016 00:00</td>\n",
       "      <td>0</td>\n",
       "      <td>87439</td>\n",
       "      <td>07/04/2016 07:15</td>\n",
       "    </tr>\n",
       "    <tr>\n",
       "      <th>354368</th>\n",
       "      <td>20/03/2016 19:41</td>\n",
       "      <td>3400</td>\n",
       "      <td>wagon</td>\n",
       "      <td>2002</td>\n",
       "      <td>manual</td>\n",
       "      <td>100</td>\n",
       "      <td>golf</td>\n",
       "      <td>150000</td>\n",
       "      <td>6</td>\n",
       "      <td>gasoline</td>\n",
       "      <td>volkswagen</td>\n",
       "      <td>NaN</td>\n",
       "      <td>20/03/2016 00:00</td>\n",
       "      <td>0</td>\n",
       "      <td>40764</td>\n",
       "      <td>24/03/2016 12:45</td>\n",
       "    </tr>\n",
       "  </tbody>\n",
       "</table>\n",
       "<p>354369 rows × 16 columns</p>\n",
       "</div>"
      ],
      "text/plain": [
       "             DateCrawled  Price  VehicleType  RegistrationYear Gearbox  Power  \\\n",
       "0       24/03/2016 11:52    480          NaN              1993  manual      0   \n",
       "1       24/03/2016 10:58  18300        coupe              2011  manual    190   \n",
       "2       14/03/2016 12:52   9800          suv              2004    auto    163   \n",
       "3       17/03/2016 16:54   1500        small              2001  manual     75   \n",
       "4       31/03/2016 17:25   3600        small              2008  manual     69   \n",
       "...                  ...    ...          ...               ...     ...    ...   \n",
       "354364  21/03/2016 09:50      0          NaN              2005  manual      0   \n",
       "354365  14/03/2016 17:48   2200          NaN              2005     NaN      0   \n",
       "354366  05/03/2016 19:56   1199  convertible              2000    auto    101   \n",
       "354367  19/03/2016 18:57   9200          bus              1996  manual    102   \n",
       "354368  20/03/2016 19:41   3400        wagon              2002  manual    100   \n",
       "\n",
       "              Model  Mileage  RegistrationMonth  FuelType           Brand  \\\n",
       "0              golf   150000                  0    petrol      volkswagen   \n",
       "1               NaN   125000                  5  gasoline            audi   \n",
       "2             grand   125000                  8  gasoline            jeep   \n",
       "3              golf   150000                  6    petrol      volkswagen   \n",
       "4             fabia    90000                  7  gasoline           skoda   \n",
       "...             ...      ...                ...       ...             ...   \n",
       "354364         colt   150000                  7    petrol      mitsubishi   \n",
       "354365          NaN    20000                  1       NaN  sonstige_autos   \n",
       "354366       fortwo   125000                  3    petrol           smart   \n",
       "354367  transporter   150000                  3  gasoline      volkswagen   \n",
       "354368         golf   150000                  6  gasoline      volkswagen   \n",
       "\n",
       "       NotRepaired       DateCreated  NumberOfPictures  PostalCode  \\\n",
       "0              NaN  24/03/2016 00:00                 0       70435   \n",
       "1              yes  24/03/2016 00:00                 0       66954   \n",
       "2              NaN  14/03/2016 00:00                 0       90480   \n",
       "3               no  17/03/2016 00:00                 0       91074   \n",
       "4               no  31/03/2016 00:00                 0       60437   \n",
       "...            ...               ...               ...         ...   \n",
       "354364         yes  21/03/2016 00:00                 0        2694   \n",
       "354365         NaN  14/03/2016 00:00                 0       39576   \n",
       "354366          no  05/03/2016 00:00                 0       26135   \n",
       "354367          no  19/03/2016 00:00                 0       87439   \n",
       "354368         NaN  20/03/2016 00:00                 0       40764   \n",
       "\n",
       "                LastSeen  \n",
       "0       07/04/2016 03:16  \n",
       "1       07/04/2016 01:46  \n",
       "2       05/04/2016 12:47  \n",
       "3       17/03/2016 17:40  \n",
       "4       06/04/2016 10:17  \n",
       "...                  ...  \n",
       "354364  21/03/2016 10:42  \n",
       "354365  06/04/2016 00:46  \n",
       "354366  11/03/2016 18:17  \n",
       "354367  07/04/2016 07:15  \n",
       "354368  24/03/2016 12:45  \n",
       "\n",
       "[354369 rows x 16 columns]"
      ]
     },
     "execution_count": 2,
     "metadata": {},
     "output_type": "execute_result"
    }
   ],
   "source": [
    "df = pd.read_csv(\"/datasets/car_data.csv\")\n",
    "df.info()\n",
    "df"
   ]
  },
  {
   "cell_type": "markdown",
   "metadata": {},
   "source": [
    "De forma inicial vemos que se tienen datos incompletos y que se puede mejorar los nombres de las columnas para mejor manejo posteriormente."
   ]
  },
  {
   "cell_type": "markdown",
   "metadata": {},
   "source": [
    "### Preparación de los Datos\n",
    "\n",
    "Comenzamos modificando los nombres de las columnas para dejarlas en minúsculas."
   ]
  },
  {
   "cell_type": "code",
   "execution_count": 3,
   "metadata": {
    "scrolled": false
   },
   "outputs": [
    {
     "data": {
      "text/html": [
       "<div>\n",
       "<style scoped>\n",
       "    .dataframe tbody tr th:only-of-type {\n",
       "        vertical-align: middle;\n",
       "    }\n",
       "\n",
       "    .dataframe tbody tr th {\n",
       "        vertical-align: top;\n",
       "    }\n",
       "\n",
       "    .dataframe thead th {\n",
       "        text-align: right;\n",
       "    }\n",
       "</style>\n",
       "<table border=\"1\" class=\"dataframe\">\n",
       "  <thead>\n",
       "    <tr style=\"text-align: right;\">\n",
       "      <th></th>\n",
       "      <th>datecrawled</th>\n",
       "      <th>price</th>\n",
       "      <th>vehicletype</th>\n",
       "      <th>registrationyear</th>\n",
       "      <th>gearbox</th>\n",
       "      <th>power</th>\n",
       "      <th>model</th>\n",
       "      <th>mileage</th>\n",
       "      <th>registrationmonth</th>\n",
       "      <th>fueltype</th>\n",
       "      <th>brand</th>\n",
       "      <th>notrepaired</th>\n",
       "      <th>datecreated</th>\n",
       "      <th>numberofpictures</th>\n",
       "      <th>postalcode</th>\n",
       "      <th>lastseen</th>\n",
       "    </tr>\n",
       "  </thead>\n",
       "  <tbody>\n",
       "    <tr>\n",
       "      <th>0</th>\n",
       "      <td>24/03/2016 11:52</td>\n",
       "      <td>480</td>\n",
       "      <td>NaN</td>\n",
       "      <td>1993</td>\n",
       "      <td>manual</td>\n",
       "      <td>0</td>\n",
       "      <td>golf</td>\n",
       "      <td>150000</td>\n",
       "      <td>0</td>\n",
       "      <td>petrol</td>\n",
       "      <td>volkswagen</td>\n",
       "      <td>NaN</td>\n",
       "      <td>24/03/2016 00:00</td>\n",
       "      <td>0</td>\n",
       "      <td>70435</td>\n",
       "      <td>07/04/2016 03:16</td>\n",
       "    </tr>\n",
       "    <tr>\n",
       "      <th>1</th>\n",
       "      <td>24/03/2016 10:58</td>\n",
       "      <td>18300</td>\n",
       "      <td>coupe</td>\n",
       "      <td>2011</td>\n",
       "      <td>manual</td>\n",
       "      <td>190</td>\n",
       "      <td>NaN</td>\n",
       "      <td>125000</td>\n",
       "      <td>5</td>\n",
       "      <td>gasoline</td>\n",
       "      <td>audi</td>\n",
       "      <td>yes</td>\n",
       "      <td>24/03/2016 00:00</td>\n",
       "      <td>0</td>\n",
       "      <td>66954</td>\n",
       "      <td>07/04/2016 01:46</td>\n",
       "    </tr>\n",
       "    <tr>\n",
       "      <th>2</th>\n",
       "      <td>14/03/2016 12:52</td>\n",
       "      <td>9800</td>\n",
       "      <td>suv</td>\n",
       "      <td>2004</td>\n",
       "      <td>auto</td>\n",
       "      <td>163</td>\n",
       "      <td>grand</td>\n",
       "      <td>125000</td>\n",
       "      <td>8</td>\n",
       "      <td>gasoline</td>\n",
       "      <td>jeep</td>\n",
       "      <td>NaN</td>\n",
       "      <td>14/03/2016 00:00</td>\n",
       "      <td>0</td>\n",
       "      <td>90480</td>\n",
       "      <td>05/04/2016 12:47</td>\n",
       "    </tr>\n",
       "    <tr>\n",
       "      <th>3</th>\n",
       "      <td>17/03/2016 16:54</td>\n",
       "      <td>1500</td>\n",
       "      <td>small</td>\n",
       "      <td>2001</td>\n",
       "      <td>manual</td>\n",
       "      <td>75</td>\n",
       "      <td>golf</td>\n",
       "      <td>150000</td>\n",
       "      <td>6</td>\n",
       "      <td>petrol</td>\n",
       "      <td>volkswagen</td>\n",
       "      <td>no</td>\n",
       "      <td>17/03/2016 00:00</td>\n",
       "      <td>0</td>\n",
       "      <td>91074</td>\n",
       "      <td>17/03/2016 17:40</td>\n",
       "    </tr>\n",
       "    <tr>\n",
       "      <th>4</th>\n",
       "      <td>31/03/2016 17:25</td>\n",
       "      <td>3600</td>\n",
       "      <td>small</td>\n",
       "      <td>2008</td>\n",
       "      <td>manual</td>\n",
       "      <td>69</td>\n",
       "      <td>fabia</td>\n",
       "      <td>90000</td>\n",
       "      <td>7</td>\n",
       "      <td>gasoline</td>\n",
       "      <td>skoda</td>\n",
       "      <td>no</td>\n",
       "      <td>31/03/2016 00:00</td>\n",
       "      <td>0</td>\n",
       "      <td>60437</td>\n",
       "      <td>06/04/2016 10:17</td>\n",
       "    </tr>\n",
       "    <tr>\n",
       "      <th>...</th>\n",
       "      <td>...</td>\n",
       "      <td>...</td>\n",
       "      <td>...</td>\n",
       "      <td>...</td>\n",
       "      <td>...</td>\n",
       "      <td>...</td>\n",
       "      <td>...</td>\n",
       "      <td>...</td>\n",
       "      <td>...</td>\n",
       "      <td>...</td>\n",
       "      <td>...</td>\n",
       "      <td>...</td>\n",
       "      <td>...</td>\n",
       "      <td>...</td>\n",
       "      <td>...</td>\n",
       "      <td>...</td>\n",
       "    </tr>\n",
       "    <tr>\n",
       "      <th>354364</th>\n",
       "      <td>21/03/2016 09:50</td>\n",
       "      <td>0</td>\n",
       "      <td>NaN</td>\n",
       "      <td>2005</td>\n",
       "      <td>manual</td>\n",
       "      <td>0</td>\n",
       "      <td>colt</td>\n",
       "      <td>150000</td>\n",
       "      <td>7</td>\n",
       "      <td>petrol</td>\n",
       "      <td>mitsubishi</td>\n",
       "      <td>yes</td>\n",
       "      <td>21/03/2016 00:00</td>\n",
       "      <td>0</td>\n",
       "      <td>2694</td>\n",
       "      <td>21/03/2016 10:42</td>\n",
       "    </tr>\n",
       "    <tr>\n",
       "      <th>354365</th>\n",
       "      <td>14/03/2016 17:48</td>\n",
       "      <td>2200</td>\n",
       "      <td>NaN</td>\n",
       "      <td>2005</td>\n",
       "      <td>NaN</td>\n",
       "      <td>0</td>\n",
       "      <td>NaN</td>\n",
       "      <td>20000</td>\n",
       "      <td>1</td>\n",
       "      <td>NaN</td>\n",
       "      <td>sonstige_autos</td>\n",
       "      <td>NaN</td>\n",
       "      <td>14/03/2016 00:00</td>\n",
       "      <td>0</td>\n",
       "      <td>39576</td>\n",
       "      <td>06/04/2016 00:46</td>\n",
       "    </tr>\n",
       "    <tr>\n",
       "      <th>354366</th>\n",
       "      <td>05/03/2016 19:56</td>\n",
       "      <td>1199</td>\n",
       "      <td>convertible</td>\n",
       "      <td>2000</td>\n",
       "      <td>auto</td>\n",
       "      <td>101</td>\n",
       "      <td>fortwo</td>\n",
       "      <td>125000</td>\n",
       "      <td>3</td>\n",
       "      <td>petrol</td>\n",
       "      <td>smart</td>\n",
       "      <td>no</td>\n",
       "      <td>05/03/2016 00:00</td>\n",
       "      <td>0</td>\n",
       "      <td>26135</td>\n",
       "      <td>11/03/2016 18:17</td>\n",
       "    </tr>\n",
       "    <tr>\n",
       "      <th>354367</th>\n",
       "      <td>19/03/2016 18:57</td>\n",
       "      <td>9200</td>\n",
       "      <td>bus</td>\n",
       "      <td>1996</td>\n",
       "      <td>manual</td>\n",
       "      <td>102</td>\n",
       "      <td>transporter</td>\n",
       "      <td>150000</td>\n",
       "      <td>3</td>\n",
       "      <td>gasoline</td>\n",
       "      <td>volkswagen</td>\n",
       "      <td>no</td>\n",
       "      <td>19/03/2016 00:00</td>\n",
       "      <td>0</td>\n",
       "      <td>87439</td>\n",
       "      <td>07/04/2016 07:15</td>\n",
       "    </tr>\n",
       "    <tr>\n",
       "      <th>354368</th>\n",
       "      <td>20/03/2016 19:41</td>\n",
       "      <td>3400</td>\n",
       "      <td>wagon</td>\n",
       "      <td>2002</td>\n",
       "      <td>manual</td>\n",
       "      <td>100</td>\n",
       "      <td>golf</td>\n",
       "      <td>150000</td>\n",
       "      <td>6</td>\n",
       "      <td>gasoline</td>\n",
       "      <td>volkswagen</td>\n",
       "      <td>NaN</td>\n",
       "      <td>20/03/2016 00:00</td>\n",
       "      <td>0</td>\n",
       "      <td>40764</td>\n",
       "      <td>24/03/2016 12:45</td>\n",
       "    </tr>\n",
       "  </tbody>\n",
       "</table>\n",
       "<p>354369 rows × 16 columns</p>\n",
       "</div>"
      ],
      "text/plain": [
       "             datecrawled  price  vehicletype  registrationyear gearbox  power  \\\n",
       "0       24/03/2016 11:52    480          NaN              1993  manual      0   \n",
       "1       24/03/2016 10:58  18300        coupe              2011  manual    190   \n",
       "2       14/03/2016 12:52   9800          suv              2004    auto    163   \n",
       "3       17/03/2016 16:54   1500        small              2001  manual     75   \n",
       "4       31/03/2016 17:25   3600        small              2008  manual     69   \n",
       "...                  ...    ...          ...               ...     ...    ...   \n",
       "354364  21/03/2016 09:50      0          NaN              2005  manual      0   \n",
       "354365  14/03/2016 17:48   2200          NaN              2005     NaN      0   \n",
       "354366  05/03/2016 19:56   1199  convertible              2000    auto    101   \n",
       "354367  19/03/2016 18:57   9200          bus              1996  manual    102   \n",
       "354368  20/03/2016 19:41   3400        wagon              2002  manual    100   \n",
       "\n",
       "              model  mileage  registrationmonth  fueltype           brand  \\\n",
       "0              golf   150000                  0    petrol      volkswagen   \n",
       "1               NaN   125000                  5  gasoline            audi   \n",
       "2             grand   125000                  8  gasoline            jeep   \n",
       "3              golf   150000                  6    petrol      volkswagen   \n",
       "4             fabia    90000                  7  gasoline           skoda   \n",
       "...             ...      ...                ...       ...             ...   \n",
       "354364         colt   150000                  7    petrol      mitsubishi   \n",
       "354365          NaN    20000                  1       NaN  sonstige_autos   \n",
       "354366       fortwo   125000                  3    petrol           smart   \n",
       "354367  transporter   150000                  3  gasoline      volkswagen   \n",
       "354368         golf   150000                  6  gasoline      volkswagen   \n",
       "\n",
       "       notrepaired       datecreated  numberofpictures  postalcode  \\\n",
       "0              NaN  24/03/2016 00:00                 0       70435   \n",
       "1              yes  24/03/2016 00:00                 0       66954   \n",
       "2              NaN  14/03/2016 00:00                 0       90480   \n",
       "3               no  17/03/2016 00:00                 0       91074   \n",
       "4               no  31/03/2016 00:00                 0       60437   \n",
       "...            ...               ...               ...         ...   \n",
       "354364         yes  21/03/2016 00:00                 0        2694   \n",
       "354365         NaN  14/03/2016 00:00                 0       39576   \n",
       "354366          no  05/03/2016 00:00                 0       26135   \n",
       "354367          no  19/03/2016 00:00                 0       87439   \n",
       "354368         NaN  20/03/2016 00:00                 0       40764   \n",
       "\n",
       "                lastseen  \n",
       "0       07/04/2016 03:16  \n",
       "1       07/04/2016 01:46  \n",
       "2       05/04/2016 12:47  \n",
       "3       17/03/2016 17:40  \n",
       "4       06/04/2016 10:17  \n",
       "...                  ...  \n",
       "354364  21/03/2016 10:42  \n",
       "354365  06/04/2016 00:46  \n",
       "354366  11/03/2016 18:17  \n",
       "354367  07/04/2016 07:15  \n",
       "354368  24/03/2016 12:45  \n",
       "\n",
       "[354369 rows x 16 columns]"
      ]
     },
     "execution_count": 3,
     "metadata": {},
     "output_type": "execute_result"
    }
   ],
   "source": [
    "df.columns = df.columns.str.lower()\n",
    "df"
   ]
  },
  {
   "cell_type": "code",
   "execution_count": 4,
   "metadata": {
    "scrolled": false
   },
   "outputs": [
    {
     "data": {
      "text/html": [
       "<div>\n",
       "<style scoped>\n",
       "    .dataframe tbody tr th:only-of-type {\n",
       "        vertical-align: middle;\n",
       "    }\n",
       "\n",
       "    .dataframe tbody tr th {\n",
       "        vertical-align: top;\n",
       "    }\n",
       "\n",
       "    .dataframe thead th {\n",
       "        text-align: right;\n",
       "    }\n",
       "</style>\n",
       "<table border=\"1\" class=\"dataframe\">\n",
       "  <thead>\n",
       "    <tr style=\"text-align: right;\">\n",
       "      <th></th>\n",
       "      <th>datecrawled</th>\n",
       "      <th>price</th>\n",
       "      <th>vehicletype</th>\n",
       "      <th>registrationyear</th>\n",
       "      <th>gearbox</th>\n",
       "      <th>power</th>\n",
       "      <th>model</th>\n",
       "      <th>mileage</th>\n",
       "      <th>registrationmonth</th>\n",
       "      <th>fueltype</th>\n",
       "      <th>brand</th>\n",
       "      <th>notrepaired</th>\n",
       "      <th>datecreated</th>\n",
       "      <th>numberofpictures</th>\n",
       "      <th>postalcode</th>\n",
       "      <th>lastseen</th>\n",
       "    </tr>\n",
       "  </thead>\n",
       "  <tbody>\n",
       "    <tr>\n",
       "      <th>14266</th>\n",
       "      <td>21/03/2016 19:06</td>\n",
       "      <td>5999</td>\n",
       "      <td>small</td>\n",
       "      <td>2009</td>\n",
       "      <td>manual</td>\n",
       "      <td>80</td>\n",
       "      <td>polo</td>\n",
       "      <td>125000</td>\n",
       "      <td>5</td>\n",
       "      <td>petrol</td>\n",
       "      <td>volkswagen</td>\n",
       "      <td>no</td>\n",
       "      <td>21/03/2016 00:00</td>\n",
       "      <td>0</td>\n",
       "      <td>65529</td>\n",
       "      <td>05/04/2016 20:47</td>\n",
       "    </tr>\n",
       "    <tr>\n",
       "      <th>27568</th>\n",
       "      <td>23/03/2016 10:38</td>\n",
       "      <td>12200</td>\n",
       "      <td>bus</td>\n",
       "      <td>2011</td>\n",
       "      <td>manual</td>\n",
       "      <td>125</td>\n",
       "      <td>zafira</td>\n",
       "      <td>40000</td>\n",
       "      <td>10</td>\n",
       "      <td>gasoline</td>\n",
       "      <td>opel</td>\n",
       "      <td>no</td>\n",
       "      <td>23/03/2016 00:00</td>\n",
       "      <td>0</td>\n",
       "      <td>26629</td>\n",
       "      <td>05/04/2016 07:44</td>\n",
       "    </tr>\n",
       "    <tr>\n",
       "      <th>31599</th>\n",
       "      <td>03/04/2016 20:41</td>\n",
       "      <td>4950</td>\n",
       "      <td>wagon</td>\n",
       "      <td>2003</td>\n",
       "      <td>auto</td>\n",
       "      <td>170</td>\n",
       "      <td>e_klasse</td>\n",
       "      <td>150000</td>\n",
       "      <td>4</td>\n",
       "      <td>gasoline</td>\n",
       "      <td>mercedes_benz</td>\n",
       "      <td>no</td>\n",
       "      <td>03/04/2016 00:00</td>\n",
       "      <td>0</td>\n",
       "      <td>48432</td>\n",
       "      <td>05/04/2016 21:17</td>\n",
       "    </tr>\n",
       "    <tr>\n",
       "      <th>33138</th>\n",
       "      <td>07/03/2016 20:45</td>\n",
       "      <td>10900</td>\n",
       "      <td>convertible</td>\n",
       "      <td>2005</td>\n",
       "      <td>auto</td>\n",
       "      <td>163</td>\n",
       "      <td>clk</td>\n",
       "      <td>125000</td>\n",
       "      <td>5</td>\n",
       "      <td>petrol</td>\n",
       "      <td>mercedes_benz</td>\n",
       "      <td>no</td>\n",
       "      <td>07/03/2016 00:00</td>\n",
       "      <td>0</td>\n",
       "      <td>61200</td>\n",
       "      <td>21/03/2016 03:45</td>\n",
       "    </tr>\n",
       "    <tr>\n",
       "      <th>43656</th>\n",
       "      <td>13/03/2016 20:48</td>\n",
       "      <td>4200</td>\n",
       "      <td>sedan</td>\n",
       "      <td>2003</td>\n",
       "      <td>manual</td>\n",
       "      <td>105</td>\n",
       "      <td>golf</td>\n",
       "      <td>150000</td>\n",
       "      <td>10</td>\n",
       "      <td>gasoline</td>\n",
       "      <td>volkswagen</td>\n",
       "      <td>no</td>\n",
       "      <td>13/03/2016 00:00</td>\n",
       "      <td>0</td>\n",
       "      <td>14482</td>\n",
       "      <td>13/03/2016 20:48</td>\n",
       "    </tr>\n",
       "    <tr>\n",
       "      <th>...</th>\n",
       "      <td>...</td>\n",
       "      <td>...</td>\n",
       "      <td>...</td>\n",
       "      <td>...</td>\n",
       "      <td>...</td>\n",
       "      <td>...</td>\n",
       "      <td>...</td>\n",
       "      <td>...</td>\n",
       "      <td>...</td>\n",
       "      <td>...</td>\n",
       "      <td>...</td>\n",
       "      <td>...</td>\n",
       "      <td>...</td>\n",
       "      <td>...</td>\n",
       "      <td>...</td>\n",
       "      <td>...</td>\n",
       "    </tr>\n",
       "    <tr>\n",
       "      <th>349709</th>\n",
       "      <td>03/04/2016 20:52</td>\n",
       "      <td>700</td>\n",
       "      <td>small</td>\n",
       "      <td>1999</td>\n",
       "      <td>manual</td>\n",
       "      <td>60</td>\n",
       "      <td>ibiza</td>\n",
       "      <td>150000</td>\n",
       "      <td>12</td>\n",
       "      <td>petrol</td>\n",
       "      <td>seat</td>\n",
       "      <td>yes</td>\n",
       "      <td>03/04/2016 00:00</td>\n",
       "      <td>0</td>\n",
       "      <td>6268</td>\n",
       "      <td>05/04/2016 21:47</td>\n",
       "    </tr>\n",
       "    <tr>\n",
       "      <th>351555</th>\n",
       "      <td>26/03/2016 16:54</td>\n",
       "      <td>3150</td>\n",
       "      <td>bus</td>\n",
       "      <td>2003</td>\n",
       "      <td>manual</td>\n",
       "      <td>86</td>\n",
       "      <td>transit</td>\n",
       "      <td>150000</td>\n",
       "      <td>11</td>\n",
       "      <td>gasoline</td>\n",
       "      <td>ford</td>\n",
       "      <td>no</td>\n",
       "      <td>26/03/2016 00:00</td>\n",
       "      <td>0</td>\n",
       "      <td>96148</td>\n",
       "      <td>02/04/2016 07:47</td>\n",
       "    </tr>\n",
       "    <tr>\n",
       "      <th>352384</th>\n",
       "      <td>15/03/2016 21:54</td>\n",
       "      <td>5900</td>\n",
       "      <td>wagon</td>\n",
       "      <td>2006</td>\n",
       "      <td>manual</td>\n",
       "      <td>129</td>\n",
       "      <td>3er</td>\n",
       "      <td>150000</td>\n",
       "      <td>12</td>\n",
       "      <td>petrol</td>\n",
       "      <td>bmw</td>\n",
       "      <td>no</td>\n",
       "      <td>15/03/2016 00:00</td>\n",
       "      <td>0</td>\n",
       "      <td>92526</td>\n",
       "      <td>20/03/2016 21:17</td>\n",
       "    </tr>\n",
       "    <tr>\n",
       "      <th>353057</th>\n",
       "      <td>05/03/2016 14:16</td>\n",
       "      <td>9500</td>\n",
       "      <td>small</td>\n",
       "      <td>2013</td>\n",
       "      <td>manual</td>\n",
       "      <td>105</td>\n",
       "      <td>ibiza</td>\n",
       "      <td>40000</td>\n",
       "      <td>5</td>\n",
       "      <td>petrol</td>\n",
       "      <td>seat</td>\n",
       "      <td>no</td>\n",
       "      <td>04/03/2016 00:00</td>\n",
       "      <td>0</td>\n",
       "      <td>61381</td>\n",
       "      <td>05/04/2016 19:18</td>\n",
       "    </tr>\n",
       "    <tr>\n",
       "      <th>353727</th>\n",
       "      <td>20/03/2016 17:56</td>\n",
       "      <td>1</td>\n",
       "      <td>NaN</td>\n",
       "      <td>2000</td>\n",
       "      <td>NaN</td>\n",
       "      <td>0</td>\n",
       "      <td>NaN</td>\n",
       "      <td>150000</td>\n",
       "      <td>0</td>\n",
       "      <td>NaN</td>\n",
       "      <td>bmw</td>\n",
       "      <td>NaN</td>\n",
       "      <td>20/03/2016 00:00</td>\n",
       "      <td>0</td>\n",
       "      <td>42329</td>\n",
       "      <td>07/04/2016 00:46</td>\n",
       "    </tr>\n",
       "  </tbody>\n",
       "</table>\n",
       "<p>262 rows × 16 columns</p>\n",
       "</div>"
      ],
      "text/plain": [
       "             datecrawled  price  vehicletype  registrationyear gearbox  power  \\\n",
       "14266   21/03/2016 19:06   5999        small              2009  manual     80   \n",
       "27568   23/03/2016 10:38  12200          bus              2011  manual    125   \n",
       "31599   03/04/2016 20:41   4950        wagon              2003    auto    170   \n",
       "33138   07/03/2016 20:45  10900  convertible              2005    auto    163   \n",
       "43656   13/03/2016 20:48   4200        sedan              2003  manual    105   \n",
       "...                  ...    ...          ...               ...     ...    ...   \n",
       "349709  03/04/2016 20:52    700        small              1999  manual     60   \n",
       "351555  26/03/2016 16:54   3150          bus              2003  manual     86   \n",
       "352384  15/03/2016 21:54   5900        wagon              2006  manual    129   \n",
       "353057  05/03/2016 14:16   9500        small              2013  manual    105   \n",
       "353727  20/03/2016 17:56      1          NaN              2000     NaN      0   \n",
       "\n",
       "           model  mileage  registrationmonth  fueltype          brand  \\\n",
       "14266       polo   125000                  5    petrol     volkswagen   \n",
       "27568     zafira    40000                 10  gasoline           opel   \n",
       "31599   e_klasse   150000                  4  gasoline  mercedes_benz   \n",
       "33138        clk   125000                  5    petrol  mercedes_benz   \n",
       "43656       golf   150000                 10  gasoline     volkswagen   \n",
       "...          ...      ...                ...       ...            ...   \n",
       "349709     ibiza   150000                 12    petrol           seat   \n",
       "351555   transit   150000                 11  gasoline           ford   \n",
       "352384       3er   150000                 12    petrol            bmw   \n",
       "353057     ibiza    40000                  5    petrol           seat   \n",
       "353727       NaN   150000                  0       NaN            bmw   \n",
       "\n",
       "       notrepaired       datecreated  numberofpictures  postalcode  \\\n",
       "14266           no  21/03/2016 00:00                 0       65529   \n",
       "27568           no  23/03/2016 00:00                 0       26629   \n",
       "31599           no  03/04/2016 00:00                 0       48432   \n",
       "33138           no  07/03/2016 00:00                 0       61200   \n",
       "43656           no  13/03/2016 00:00                 0       14482   \n",
       "...            ...               ...               ...         ...   \n",
       "349709         yes  03/04/2016 00:00                 0        6268   \n",
       "351555          no  26/03/2016 00:00                 0       96148   \n",
       "352384          no  15/03/2016 00:00                 0       92526   \n",
       "353057          no  04/03/2016 00:00                 0       61381   \n",
       "353727         NaN  20/03/2016 00:00                 0       42329   \n",
       "\n",
       "                lastseen  \n",
       "14266   05/04/2016 20:47  \n",
       "27568   05/04/2016 07:44  \n",
       "31599   05/04/2016 21:17  \n",
       "33138   21/03/2016 03:45  \n",
       "43656   13/03/2016 20:48  \n",
       "...                  ...  \n",
       "349709  05/04/2016 21:47  \n",
       "351555  02/04/2016 07:47  \n",
       "352384  20/03/2016 21:17  \n",
       "353057  05/04/2016 19:18  \n",
       "353727  07/04/2016 00:46  \n",
       "\n",
       "[262 rows x 16 columns]"
      ]
     },
     "execution_count": 4,
     "metadata": {},
     "output_type": "execute_result"
    }
   ],
   "source": [
    "df[df.duplicated()]"
   ]
  },
  {
   "cell_type": "markdown",
   "metadata": {},
   "source": [
    "Vemos que tenemos filas completamente duplicadas, en este caso es muy relevante saber si es efectivamente por una mala muestra de la toma de datos o porque se produce alguna similitud en los elementos tomados. En este caso, revisando, tenemos que, por ejemplo, su postalcode se repite (y el cual debiese ser único para cada usuario). Por ende lo más seguro es que la captura de datos tuvo algun error en su consolidación, por lo que se procederá a eliminar las filas repetidas."
   ]
  },
  {
   "cell_type": "code",
   "execution_count": 5,
   "metadata": {
    "scrolled": false
   },
   "outputs": [
    {
     "data": {
      "text/html": [
       "<div>\n",
       "<style scoped>\n",
       "    .dataframe tbody tr th:only-of-type {\n",
       "        vertical-align: middle;\n",
       "    }\n",
       "\n",
       "    .dataframe tbody tr th {\n",
       "        vertical-align: top;\n",
       "    }\n",
       "\n",
       "    .dataframe thead th {\n",
       "        text-align: right;\n",
       "    }\n",
       "</style>\n",
       "<table border=\"1\" class=\"dataframe\">\n",
       "  <thead>\n",
       "    <tr style=\"text-align: right;\">\n",
       "      <th></th>\n",
       "      <th>datecrawled</th>\n",
       "      <th>price</th>\n",
       "      <th>vehicletype</th>\n",
       "      <th>registrationyear</th>\n",
       "      <th>gearbox</th>\n",
       "      <th>power</th>\n",
       "      <th>model</th>\n",
       "      <th>mileage</th>\n",
       "      <th>registrationmonth</th>\n",
       "      <th>fueltype</th>\n",
       "      <th>brand</th>\n",
       "      <th>notrepaired</th>\n",
       "      <th>datecreated</th>\n",
       "      <th>numberofpictures</th>\n",
       "      <th>postalcode</th>\n",
       "      <th>lastseen</th>\n",
       "    </tr>\n",
       "  </thead>\n",
       "  <tbody>\n",
       "    <tr>\n",
       "      <th>183</th>\n",
       "      <td>21/03/2016 19:06</td>\n",
       "      <td>5999</td>\n",
       "      <td>small</td>\n",
       "      <td>2009</td>\n",
       "      <td>manual</td>\n",
       "      <td>80</td>\n",
       "      <td>polo</td>\n",
       "      <td>125000</td>\n",
       "      <td>5</td>\n",
       "      <td>petrol</td>\n",
       "      <td>volkswagen</td>\n",
       "      <td>no</td>\n",
       "      <td>21/03/2016 00:00</td>\n",
       "      <td>0</td>\n",
       "      <td>65529</td>\n",
       "      <td>05/04/2016 20:47</td>\n",
       "    </tr>\n",
       "    <tr>\n",
       "      <th>947</th>\n",
       "      <td>21/03/2016 19:06</td>\n",
       "      <td>1450</td>\n",
       "      <td>bus</td>\n",
       "      <td>2000</td>\n",
       "      <td>manual</td>\n",
       "      <td>82</td>\n",
       "      <td>vito</td>\n",
       "      <td>150000</td>\n",
       "      <td>6</td>\n",
       "      <td>gasoline</td>\n",
       "      <td>mercedes_benz</td>\n",
       "      <td>no</td>\n",
       "      <td>21/03/2016 00:00</td>\n",
       "      <td>0</td>\n",
       "      <td>55120</td>\n",
       "      <td>23/03/2016 11:32</td>\n",
       "    </tr>\n",
       "    <tr>\n",
       "      <th>12462</th>\n",
       "      <td>21/03/2016 19:06</td>\n",
       "      <td>6300</td>\n",
       "      <td>small</td>\n",
       "      <td>2007</td>\n",
       "      <td>manual</td>\n",
       "      <td>95</td>\n",
       "      <td>one</td>\n",
       "      <td>90000</td>\n",
       "      <td>7</td>\n",
       "      <td>petrol</td>\n",
       "      <td>mini</td>\n",
       "      <td>no</td>\n",
       "      <td>21/03/2016 00:00</td>\n",
       "      <td>0</td>\n",
       "      <td>60318</td>\n",
       "      <td>29/03/2016 11:47</td>\n",
       "    </tr>\n",
       "    <tr>\n",
       "      <th>14266</th>\n",
       "      <td>21/03/2016 19:06</td>\n",
       "      <td>5999</td>\n",
       "      <td>small</td>\n",
       "      <td>2009</td>\n",
       "      <td>manual</td>\n",
       "      <td>80</td>\n",
       "      <td>polo</td>\n",
       "      <td>125000</td>\n",
       "      <td>5</td>\n",
       "      <td>petrol</td>\n",
       "      <td>volkswagen</td>\n",
       "      <td>no</td>\n",
       "      <td>21/03/2016 00:00</td>\n",
       "      <td>0</td>\n",
       "      <td>65529</td>\n",
       "      <td>05/04/2016 20:47</td>\n",
       "    </tr>\n",
       "    <tr>\n",
       "      <th>134813</th>\n",
       "      <td>21/03/2016 19:06</td>\n",
       "      <td>6500</td>\n",
       "      <td>small</td>\n",
       "      <td>2005</td>\n",
       "      <td>manual</td>\n",
       "      <td>116</td>\n",
       "      <td>cooper</td>\n",
       "      <td>150000</td>\n",
       "      <td>5</td>\n",
       "      <td>petrol</td>\n",
       "      <td>mini</td>\n",
       "      <td>no</td>\n",
       "      <td>21/03/2016 00:00</td>\n",
       "      <td>0</td>\n",
       "      <td>61279</td>\n",
       "      <td>05/04/2016 20:47</td>\n",
       "    </tr>\n",
       "    <tr>\n",
       "      <th>166105</th>\n",
       "      <td>21/03/2016 19:06</td>\n",
       "      <td>1599</td>\n",
       "      <td>small</td>\n",
       "      <td>2004</td>\n",
       "      <td>manual</td>\n",
       "      <td>75</td>\n",
       "      <td>clio</td>\n",
       "      <td>150000</td>\n",
       "      <td>2</td>\n",
       "      <td>petrol</td>\n",
       "      <td>renault</td>\n",
       "      <td>no</td>\n",
       "      <td>21/03/2016 00:00</td>\n",
       "      <td>0</td>\n",
       "      <td>57635</td>\n",
       "      <td>05/04/2016 21:18</td>\n",
       "    </tr>\n",
       "    <tr>\n",
       "      <th>172362</th>\n",
       "      <td>21/03/2016 19:06</td>\n",
       "      <td>8000</td>\n",
       "      <td>wagon</td>\n",
       "      <td>2004</td>\n",
       "      <td>auto</td>\n",
       "      <td>177</td>\n",
       "      <td>5er</td>\n",
       "      <td>150000</td>\n",
       "      <td>6</td>\n",
       "      <td>gasoline</td>\n",
       "      <td>bmw</td>\n",
       "      <td>NaN</td>\n",
       "      <td>21/03/2016 00:00</td>\n",
       "      <td>0</td>\n",
       "      <td>65719</td>\n",
       "      <td>02/04/2016 21:51</td>\n",
       "    </tr>\n",
       "    <tr>\n",
       "      <th>180614</th>\n",
       "      <td>21/03/2016 19:06</td>\n",
       "      <td>1000</td>\n",
       "      <td>small</td>\n",
       "      <td>2004</td>\n",
       "      <td>manual</td>\n",
       "      <td>0</td>\n",
       "      <td>other</td>\n",
       "      <td>150000</td>\n",
       "      <td>0</td>\n",
       "      <td>petrol</td>\n",
       "      <td>mitsubishi</td>\n",
       "      <td>NaN</td>\n",
       "      <td>21/03/2016 00:00</td>\n",
       "      <td>0</td>\n",
       "      <td>35584</td>\n",
       "      <td>05/04/2016 20:47</td>\n",
       "    </tr>\n",
       "    <tr>\n",
       "      <th>204526</th>\n",
       "      <td>21/03/2016 19:06</td>\n",
       "      <td>6499</td>\n",
       "      <td>wagon</td>\n",
       "      <td>2007</td>\n",
       "      <td>manual</td>\n",
       "      <td>170</td>\n",
       "      <td>passat</td>\n",
       "      <td>150000</td>\n",
       "      <td>0</td>\n",
       "      <td>gasoline</td>\n",
       "      <td>volkswagen</td>\n",
       "      <td>NaN</td>\n",
       "      <td>21/03/2016 00:00</td>\n",
       "      <td>0</td>\n",
       "      <td>65549</td>\n",
       "      <td>22/03/2016 15:22</td>\n",
       "    </tr>\n",
       "    <tr>\n",
       "      <th>265807</th>\n",
       "      <td>21/03/2016 19:06</td>\n",
       "      <td>1700</td>\n",
       "      <td>sedan</td>\n",
       "      <td>1996</td>\n",
       "      <td>manual</td>\n",
       "      <td>192</td>\n",
       "      <td>5er</td>\n",
       "      <td>150000</td>\n",
       "      <td>5</td>\n",
       "      <td>NaN</td>\n",
       "      <td>bmw</td>\n",
       "      <td>no</td>\n",
       "      <td>21/03/2016 00:00</td>\n",
       "      <td>0</td>\n",
       "      <td>63065</td>\n",
       "      <td>22/03/2016 10:42</td>\n",
       "    </tr>\n",
       "    <tr>\n",
       "      <th>271092</th>\n",
       "      <td>21/03/2016 19:06</td>\n",
       "      <td>350</td>\n",
       "      <td>small</td>\n",
       "      <td>2002</td>\n",
       "      <td>manual</td>\n",
       "      <td>86</td>\n",
       "      <td>justy</td>\n",
       "      <td>150000</td>\n",
       "      <td>12</td>\n",
       "      <td>petrol</td>\n",
       "      <td>subaru</td>\n",
       "      <td>yes</td>\n",
       "      <td>21/03/2016 00:00</td>\n",
       "      <td>0</td>\n",
       "      <td>35075</td>\n",
       "      <td>05/04/2016 20:47</td>\n",
       "    </tr>\n",
       "    <tr>\n",
       "      <th>277391</th>\n",
       "      <td>21/03/2016 19:06</td>\n",
       "      <td>9600</td>\n",
       "      <td>sedan</td>\n",
       "      <td>2007</td>\n",
       "      <td>manual</td>\n",
       "      <td>140</td>\n",
       "      <td>a6</td>\n",
       "      <td>150000</td>\n",
       "      <td>7</td>\n",
       "      <td>gasoline</td>\n",
       "      <td>audi</td>\n",
       "      <td>no</td>\n",
       "      <td>21/03/2016 00:00</td>\n",
       "      <td>0</td>\n",
       "      <td>65835</td>\n",
       "      <td>23/03/2016 13:14</td>\n",
       "    </tr>\n",
       "    <tr>\n",
       "      <th>297211</th>\n",
       "      <td>21/03/2016 19:06</td>\n",
       "      <td>600</td>\n",
       "      <td>NaN</td>\n",
       "      <td>2017</td>\n",
       "      <td>NaN</td>\n",
       "      <td>0</td>\n",
       "      <td>corolla</td>\n",
       "      <td>150000</td>\n",
       "      <td>0</td>\n",
       "      <td>petrol</td>\n",
       "      <td>toyota</td>\n",
       "      <td>NaN</td>\n",
       "      <td>21/03/2016 00:00</td>\n",
       "      <td>0</td>\n",
       "      <td>56070</td>\n",
       "      <td>23/03/2016 17:12</td>\n",
       "    </tr>\n",
       "  </tbody>\n",
       "</table>\n",
       "</div>"
      ],
      "text/plain": [
       "             datecrawled  price vehicletype  registrationyear gearbox  power  \\\n",
       "183     21/03/2016 19:06   5999       small              2009  manual     80   \n",
       "947     21/03/2016 19:06   1450         bus              2000  manual     82   \n",
       "12462   21/03/2016 19:06   6300       small              2007  manual     95   \n",
       "14266   21/03/2016 19:06   5999       small              2009  manual     80   \n",
       "134813  21/03/2016 19:06   6500       small              2005  manual    116   \n",
       "166105  21/03/2016 19:06   1599       small              2004  manual     75   \n",
       "172362  21/03/2016 19:06   8000       wagon              2004    auto    177   \n",
       "180614  21/03/2016 19:06   1000       small              2004  manual      0   \n",
       "204526  21/03/2016 19:06   6499       wagon              2007  manual    170   \n",
       "265807  21/03/2016 19:06   1700       sedan              1996  manual    192   \n",
       "271092  21/03/2016 19:06    350       small              2002  manual     86   \n",
       "277391  21/03/2016 19:06   9600       sedan              2007  manual    140   \n",
       "297211  21/03/2016 19:06    600         NaN              2017     NaN      0   \n",
       "\n",
       "          model  mileage  registrationmonth  fueltype          brand  \\\n",
       "183        polo   125000                  5    petrol     volkswagen   \n",
       "947        vito   150000                  6  gasoline  mercedes_benz   \n",
       "12462       one    90000                  7    petrol           mini   \n",
       "14266      polo   125000                  5    petrol     volkswagen   \n",
       "134813   cooper   150000                  5    petrol           mini   \n",
       "166105     clio   150000                  2    petrol        renault   \n",
       "172362      5er   150000                  6  gasoline            bmw   \n",
       "180614    other   150000                  0    petrol     mitsubishi   \n",
       "204526   passat   150000                  0  gasoline     volkswagen   \n",
       "265807      5er   150000                  5       NaN            bmw   \n",
       "271092    justy   150000                 12    petrol         subaru   \n",
       "277391       a6   150000                  7  gasoline           audi   \n",
       "297211  corolla   150000                  0    petrol         toyota   \n",
       "\n",
       "       notrepaired       datecreated  numberofpictures  postalcode  \\\n",
       "183             no  21/03/2016 00:00                 0       65529   \n",
       "947             no  21/03/2016 00:00                 0       55120   \n",
       "12462           no  21/03/2016 00:00                 0       60318   \n",
       "14266           no  21/03/2016 00:00                 0       65529   \n",
       "134813          no  21/03/2016 00:00                 0       61279   \n",
       "166105          no  21/03/2016 00:00                 0       57635   \n",
       "172362         NaN  21/03/2016 00:00                 0       65719   \n",
       "180614         NaN  21/03/2016 00:00                 0       35584   \n",
       "204526         NaN  21/03/2016 00:00                 0       65549   \n",
       "265807          no  21/03/2016 00:00                 0       63065   \n",
       "271092         yes  21/03/2016 00:00                 0       35075   \n",
       "277391          no  21/03/2016 00:00                 0       65835   \n",
       "297211         NaN  21/03/2016 00:00                 0       56070   \n",
       "\n",
       "                lastseen  \n",
       "183     05/04/2016 20:47  \n",
       "947     23/03/2016 11:32  \n",
       "12462   29/03/2016 11:47  \n",
       "14266   05/04/2016 20:47  \n",
       "134813  05/04/2016 20:47  \n",
       "166105  05/04/2016 21:18  \n",
       "172362  02/04/2016 21:51  \n",
       "180614  05/04/2016 20:47  \n",
       "204526  22/03/2016 15:22  \n",
       "265807  22/03/2016 10:42  \n",
       "271092  05/04/2016 20:47  \n",
       "277391  23/03/2016 13:14  \n",
       "297211  23/03/2016 17:12  "
      ]
     },
     "execution_count": 5,
     "metadata": {},
     "output_type": "execute_result"
    }
   ],
   "source": [
    "df[df[\"datecrawled\"] == \"21/03/2016 19:06\"]"
   ]
  },
  {
   "cell_type": "code",
   "execution_count": 6,
   "metadata": {},
   "outputs": [
    {
     "name": "stdout",
     "output_type": "stream",
     "text": [
      "<class 'pandas.core.frame.DataFrame'>\n",
      "Int64Index: 354107 entries, 0 to 354368\n",
      "Data columns (total 16 columns):\n",
      " #   Column             Non-Null Count   Dtype \n",
      "---  ------             --------------   ----- \n",
      " 0   datecrawled        354107 non-null  object\n",
      " 1   price              354107 non-null  int64 \n",
      " 2   vehicletype        316623 non-null  object\n",
      " 3   registrationyear   354107 non-null  int64 \n",
      " 4   gearbox            334277 non-null  object\n",
      " 5   power              354107 non-null  int64 \n",
      " 6   model              334406 non-null  object\n",
      " 7   mileage            354107 non-null  int64 \n",
      " 8   registrationmonth  354107 non-null  int64 \n",
      " 9   fueltype           321218 non-null  object\n",
      " 10  brand              354107 non-null  object\n",
      " 11  notrepaired        282962 non-null  object\n",
      " 12  datecreated        354107 non-null  object\n",
      " 13  numberofpictures   354107 non-null  int64 \n",
      " 14  postalcode         354107 non-null  int64 \n",
      " 15  lastseen           354107 non-null  object\n",
      "dtypes: int64(7), object(9)\n",
      "memory usage: 45.9+ MB\n"
     ]
    }
   ],
   "source": [
    "df.drop_duplicates(inplace = True)\n",
    "df.info()"
   ]
  },
  {
   "cell_type": "markdown",
   "metadata": {},
   "source": [
    "Se remueven las 262 filas repetidas, que simplemente incluirian un sesgo en nuestro análisis y posterior modelo."
   ]
  },
  {
   "cell_type": "markdown",
   "metadata": {},
   "source": [
    "Continuando, hay ciertas columnas que no presentan ningún valor para los modelos, por ende modificaremos nuestro dataset.\n",
    "\n",
    "- DateCrawled: No nos aporta algo esencial.\n",
    "- DateCreated: No aporta datos relevantes.\n",
    "- PostalCode: No posee algo relevante respecto al objetivo buscado\n",
    "- LastSeen: Tampoco posee relevancia para el análisis.\n",
    "- Numberofpictures: todos sus valores son 0, no posee ningún aporte esencial."
   ]
  },
  {
   "cell_type": "code",
   "execution_count": 7,
   "metadata": {
    "scrolled": false
   },
   "outputs": [
    {
     "name": "stdout",
     "output_type": "stream",
     "text": [
      "<class 'pandas.core.frame.DataFrame'>\n",
      "Int64Index: 354107 entries, 0 to 354368\n",
      "Data columns (total 11 columns):\n",
      " #   Column             Non-Null Count   Dtype \n",
      "---  ------             --------------   ----- \n",
      " 0   price              354107 non-null  int64 \n",
      " 1   vehicletype        316623 non-null  object\n",
      " 2   registrationyear   354107 non-null  int64 \n",
      " 3   gearbox            334277 non-null  object\n",
      " 4   power              354107 non-null  int64 \n",
      " 5   model              334406 non-null  object\n",
      " 6   mileage            354107 non-null  int64 \n",
      " 7   registrationmonth  354107 non-null  int64 \n",
      " 8   fueltype           321218 non-null  object\n",
      " 9   brand              354107 non-null  object\n",
      " 10  notrepaired        282962 non-null  object\n",
      "dtypes: int64(5), object(6)\n",
      "memory usage: 32.4+ MB\n"
     ]
    },
    {
     "data": {
      "text/html": [
       "<div>\n",
       "<style scoped>\n",
       "    .dataframe tbody tr th:only-of-type {\n",
       "        vertical-align: middle;\n",
       "    }\n",
       "\n",
       "    .dataframe tbody tr th {\n",
       "        vertical-align: top;\n",
       "    }\n",
       "\n",
       "    .dataframe thead th {\n",
       "        text-align: right;\n",
       "    }\n",
       "</style>\n",
       "<table border=\"1\" class=\"dataframe\">\n",
       "  <thead>\n",
       "    <tr style=\"text-align: right;\">\n",
       "      <th></th>\n",
       "      <th>price</th>\n",
       "      <th>vehicletype</th>\n",
       "      <th>registrationyear</th>\n",
       "      <th>gearbox</th>\n",
       "      <th>power</th>\n",
       "      <th>model</th>\n",
       "      <th>mileage</th>\n",
       "      <th>registrationmonth</th>\n",
       "      <th>fueltype</th>\n",
       "      <th>brand</th>\n",
       "      <th>notrepaired</th>\n",
       "    </tr>\n",
       "  </thead>\n",
       "  <tbody>\n",
       "    <tr>\n",
       "      <th>0</th>\n",
       "      <td>480</td>\n",
       "      <td>NaN</td>\n",
       "      <td>1993</td>\n",
       "      <td>manual</td>\n",
       "      <td>0</td>\n",
       "      <td>golf</td>\n",
       "      <td>150000</td>\n",
       "      <td>0</td>\n",
       "      <td>petrol</td>\n",
       "      <td>volkswagen</td>\n",
       "      <td>NaN</td>\n",
       "    </tr>\n",
       "    <tr>\n",
       "      <th>1</th>\n",
       "      <td>18300</td>\n",
       "      <td>coupe</td>\n",
       "      <td>2011</td>\n",
       "      <td>manual</td>\n",
       "      <td>190</td>\n",
       "      <td>NaN</td>\n",
       "      <td>125000</td>\n",
       "      <td>5</td>\n",
       "      <td>gasoline</td>\n",
       "      <td>audi</td>\n",
       "      <td>yes</td>\n",
       "    </tr>\n",
       "    <tr>\n",
       "      <th>2</th>\n",
       "      <td>9800</td>\n",
       "      <td>suv</td>\n",
       "      <td>2004</td>\n",
       "      <td>auto</td>\n",
       "      <td>163</td>\n",
       "      <td>grand</td>\n",
       "      <td>125000</td>\n",
       "      <td>8</td>\n",
       "      <td>gasoline</td>\n",
       "      <td>jeep</td>\n",
       "      <td>NaN</td>\n",
       "    </tr>\n",
       "    <tr>\n",
       "      <th>3</th>\n",
       "      <td>1500</td>\n",
       "      <td>small</td>\n",
       "      <td>2001</td>\n",
       "      <td>manual</td>\n",
       "      <td>75</td>\n",
       "      <td>golf</td>\n",
       "      <td>150000</td>\n",
       "      <td>6</td>\n",
       "      <td>petrol</td>\n",
       "      <td>volkswagen</td>\n",
       "      <td>no</td>\n",
       "    </tr>\n",
       "    <tr>\n",
       "      <th>4</th>\n",
       "      <td>3600</td>\n",
       "      <td>small</td>\n",
       "      <td>2008</td>\n",
       "      <td>manual</td>\n",
       "      <td>69</td>\n",
       "      <td>fabia</td>\n",
       "      <td>90000</td>\n",
       "      <td>7</td>\n",
       "      <td>gasoline</td>\n",
       "      <td>skoda</td>\n",
       "      <td>no</td>\n",
       "    </tr>\n",
       "    <tr>\n",
       "      <th>...</th>\n",
       "      <td>...</td>\n",
       "      <td>...</td>\n",
       "      <td>...</td>\n",
       "      <td>...</td>\n",
       "      <td>...</td>\n",
       "      <td>...</td>\n",
       "      <td>...</td>\n",
       "      <td>...</td>\n",
       "      <td>...</td>\n",
       "      <td>...</td>\n",
       "      <td>...</td>\n",
       "    </tr>\n",
       "    <tr>\n",
       "      <th>354364</th>\n",
       "      <td>0</td>\n",
       "      <td>NaN</td>\n",
       "      <td>2005</td>\n",
       "      <td>manual</td>\n",
       "      <td>0</td>\n",
       "      <td>colt</td>\n",
       "      <td>150000</td>\n",
       "      <td>7</td>\n",
       "      <td>petrol</td>\n",
       "      <td>mitsubishi</td>\n",
       "      <td>yes</td>\n",
       "    </tr>\n",
       "    <tr>\n",
       "      <th>354365</th>\n",
       "      <td>2200</td>\n",
       "      <td>NaN</td>\n",
       "      <td>2005</td>\n",
       "      <td>NaN</td>\n",
       "      <td>0</td>\n",
       "      <td>NaN</td>\n",
       "      <td>20000</td>\n",
       "      <td>1</td>\n",
       "      <td>NaN</td>\n",
       "      <td>sonstige_autos</td>\n",
       "      <td>NaN</td>\n",
       "    </tr>\n",
       "    <tr>\n",
       "      <th>354366</th>\n",
       "      <td>1199</td>\n",
       "      <td>convertible</td>\n",
       "      <td>2000</td>\n",
       "      <td>auto</td>\n",
       "      <td>101</td>\n",
       "      <td>fortwo</td>\n",
       "      <td>125000</td>\n",
       "      <td>3</td>\n",
       "      <td>petrol</td>\n",
       "      <td>smart</td>\n",
       "      <td>no</td>\n",
       "    </tr>\n",
       "    <tr>\n",
       "      <th>354367</th>\n",
       "      <td>9200</td>\n",
       "      <td>bus</td>\n",
       "      <td>1996</td>\n",
       "      <td>manual</td>\n",
       "      <td>102</td>\n",
       "      <td>transporter</td>\n",
       "      <td>150000</td>\n",
       "      <td>3</td>\n",
       "      <td>gasoline</td>\n",
       "      <td>volkswagen</td>\n",
       "      <td>no</td>\n",
       "    </tr>\n",
       "    <tr>\n",
       "      <th>354368</th>\n",
       "      <td>3400</td>\n",
       "      <td>wagon</td>\n",
       "      <td>2002</td>\n",
       "      <td>manual</td>\n",
       "      <td>100</td>\n",
       "      <td>golf</td>\n",
       "      <td>150000</td>\n",
       "      <td>6</td>\n",
       "      <td>gasoline</td>\n",
       "      <td>volkswagen</td>\n",
       "      <td>NaN</td>\n",
       "    </tr>\n",
       "  </tbody>\n",
       "</table>\n",
       "<p>354107 rows × 11 columns</p>\n",
       "</div>"
      ],
      "text/plain": [
       "        price  vehicletype  registrationyear gearbox  power        model  \\\n",
       "0         480          NaN              1993  manual      0         golf   \n",
       "1       18300        coupe              2011  manual    190          NaN   \n",
       "2        9800          suv              2004    auto    163        grand   \n",
       "3        1500        small              2001  manual     75         golf   \n",
       "4        3600        small              2008  manual     69        fabia   \n",
       "...       ...          ...               ...     ...    ...          ...   \n",
       "354364      0          NaN              2005  manual      0         colt   \n",
       "354365   2200          NaN              2005     NaN      0          NaN   \n",
       "354366   1199  convertible              2000    auto    101       fortwo   \n",
       "354367   9200          bus              1996  manual    102  transporter   \n",
       "354368   3400        wagon              2002  manual    100         golf   \n",
       "\n",
       "        mileage  registrationmonth  fueltype           brand notrepaired  \n",
       "0        150000                  0    petrol      volkswagen         NaN  \n",
       "1        125000                  5  gasoline            audi         yes  \n",
       "2        125000                  8  gasoline            jeep         NaN  \n",
       "3        150000                  6    petrol      volkswagen          no  \n",
       "4         90000                  7  gasoline           skoda          no  \n",
       "...         ...                ...       ...             ...         ...  \n",
       "354364   150000                  7    petrol      mitsubishi         yes  \n",
       "354365    20000                  1       NaN  sonstige_autos         NaN  \n",
       "354366   125000                  3    petrol           smart          no  \n",
       "354367   150000                  3  gasoline      volkswagen          no  \n",
       "354368   150000                  6  gasoline      volkswagen         NaN  \n",
       "\n",
       "[354107 rows x 11 columns]"
      ]
     },
     "execution_count": 7,
     "metadata": {},
     "output_type": "execute_result"
    }
   ],
   "source": [
    "non_relevant = [\"datecrawled\", \"datecreated\", \"postalcode\", \"lastseen\", \"numberofpictures\"]\n",
    "df.drop(non_relevant, axis = 1, inplace = True)\n",
    "df.info()\n",
    "df"
   ]
  },
  {
   "cell_type": "markdown",
   "metadata": {},
   "source": [
    "Revisaremos ahora sus valores ausentes."
   ]
  },
  {
   "cell_type": "code",
   "execution_count": 8,
   "metadata": {
    "scrolled": true
   },
   "outputs": [
    {
     "data": {
      "text/plain": [
       "sedan          91399\n",
       "small          79753\n",
       "wagon          65115\n",
       "NaN            37484\n",
       "bus            28752\n",
       "convertible    20180\n",
       "coupe          16147\n",
       "suv            11991\n",
       "other           3286\n",
       "Name: vehicletype, dtype: int64"
      ]
     },
     "execution_count": 8,
     "metadata": {},
     "output_type": "execute_result"
    }
   ],
   "source": [
    "df[\"vehicletype\"].value_counts(dropna = False)"
   ]
  },
  {
   "cell_type": "code",
   "execution_count": 9,
   "metadata": {},
   "outputs": [
    {
     "data": {
      "text/plain": [
       "manual    268034\n",
       "auto       66243\n",
       "NaN        19830\n",
       "Name: gearbox, dtype: int64"
      ]
     },
     "execution_count": 9,
     "metadata": {},
     "output_type": "execute_result"
    }
   ],
   "source": [
    "df[\"gearbox\"].value_counts(dropna = False)"
   ]
  },
  {
   "cell_type": "code",
   "execution_count": 10,
   "metadata": {
    "scrolled": true
   },
   "outputs": [
    {
     "data": {
      "text/plain": [
       "golf                  29215\n",
       "other                 24402\n",
       "3er                   19744\n",
       "NaN                   19701\n",
       "polo                  13057\n",
       "                      ...  \n",
       "i3                        8\n",
       "serie_3                   4\n",
       "rangerover                4\n",
       "range_rover_evoque        2\n",
       "serie_1                   2\n",
       "Name: model, Length: 251, dtype: int64"
      ]
     },
     "execution_count": 10,
     "metadata": {},
     "output_type": "execute_result"
    }
   ],
   "source": [
    "df[\"model\"].value_counts(dropna = False)"
   ]
  },
  {
   "cell_type": "code",
   "execution_count": 11,
   "metadata": {},
   "outputs": [
    {
     "data": {
      "text/plain": [
       "petrol      216161\n",
       "gasoline     98658\n",
       "NaN          32889\n",
       "lpg           5307\n",
       "cng            565\n",
       "hybrid         233\n",
       "other          204\n",
       "electric        90\n",
       "Name: fueltype, dtype: int64"
      ]
     },
     "execution_count": 11,
     "metadata": {},
     "output_type": "execute_result"
    }
   ],
   "source": [
    "df[\"fueltype\"].value_counts(dropna = False)"
   ]
  },
  {
   "cell_type": "code",
   "execution_count": 12,
   "metadata": {},
   "outputs": [
    {
     "data": {
      "text/plain": [
       "no     246927\n",
       "NaN     71145\n",
       "yes     36035\n",
       "Name: notrepaired, dtype: int64"
      ]
     },
     "execution_count": 12,
     "metadata": {},
     "output_type": "execute_result"
    }
   ],
   "source": [
    "df[\"notrepaired\"].value_counts(dropna = False)"
   ]
  },
  {
   "cell_type": "markdown",
   "metadata": {},
   "source": [
    "Todas las columnas previas poseen valores ausentes. Ahora, son variables categóricas y, por ende, debemos decidir qué hacer con ellas. Para todas las columnas, se decide rellenar con \"non_specified\"."
   ]
  },
  {
   "cell_type": "code",
   "execution_count": 13,
   "metadata": {
    "scrolled": false
   },
   "outputs": [],
   "source": [
    "string_column_names = df.select_dtypes(object).columns\n",
    "df[string_column_names] = df[string_column_names].fillna('non_specified')"
   ]
  },
  {
   "cell_type": "markdown",
   "metadata": {},
   "source": [
    "Comprobando para el dataset en general:"
   ]
  },
  {
   "cell_type": "code",
   "execution_count": 14,
   "metadata": {
    "scrolled": false
   },
   "outputs": [
    {
     "name": "stdout",
     "output_type": "stream",
     "text": [
      "<class 'pandas.core.frame.DataFrame'>\n",
      "Int64Index: 354107 entries, 0 to 354368\n",
      "Data columns (total 11 columns):\n",
      " #   Column             Non-Null Count   Dtype \n",
      "---  ------             --------------   ----- \n",
      " 0   price              354107 non-null  int64 \n",
      " 1   vehicletype        354107 non-null  object\n",
      " 2   registrationyear   354107 non-null  int64 \n",
      " 3   gearbox            354107 non-null  object\n",
      " 4   power              354107 non-null  int64 \n",
      " 5   model              354107 non-null  object\n",
      " 6   mileage            354107 non-null  int64 \n",
      " 7   registrationmonth  354107 non-null  int64 \n",
      " 8   fueltype           354107 non-null  object\n",
      " 9   brand              354107 non-null  object\n",
      " 10  notrepaired        354107 non-null  object\n",
      "dtypes: int64(5), object(6)\n",
      "memory usage: 32.4+ MB\n"
     ]
    }
   ],
   "source": [
    "df.info()"
   ]
  },
  {
   "cell_type": "markdown",
   "metadata": {},
   "source": [
    "Ahora, tenemos muchas columnas categóricas en adición a las numéricas, por ende debemos codificar las mismas para el posterior análisis y entrenamiento de los modelos.\n",
    "\n",
    "### Codificación de los datos\n",
    "\n",
    "\n",
    "Para codificar nuestros datos categóricos, debemos decidir que técnica utilizar. Cuando las categorías son bastante extensas, lo mejor es utilizar el Ordinal Encoder, debido a que si, por ejemplo, utilizaramos One-hot encoding tendríamos muchas columnas adicionales lo que haría el proceso de modelamiento de nuestros algoritmos de ML mucho más lentos, y lo que se busca es eficiencia."
   ]
  },
  {
   "cell_type": "code",
   "execution_count": 15,
   "metadata": {},
   "outputs": [
    {
     "data": {
      "text/html": [
       "<div>\n",
       "<style scoped>\n",
       "    .dataframe tbody tr th:only-of-type {\n",
       "        vertical-align: middle;\n",
       "    }\n",
       "\n",
       "    .dataframe tbody tr th {\n",
       "        vertical-align: top;\n",
       "    }\n",
       "\n",
       "    .dataframe thead th {\n",
       "        text-align: right;\n",
       "    }\n",
       "</style>\n",
       "<table border=\"1\" class=\"dataframe\">\n",
       "  <thead>\n",
       "    <tr style=\"text-align: right;\">\n",
       "      <th></th>\n",
       "      <th>price</th>\n",
       "      <th>vehicletype</th>\n",
       "      <th>registrationyear</th>\n",
       "      <th>gearbox</th>\n",
       "      <th>power</th>\n",
       "      <th>model</th>\n",
       "      <th>mileage</th>\n",
       "      <th>registrationmonth</th>\n",
       "      <th>fueltype</th>\n",
       "      <th>brand</th>\n",
       "      <th>notrepaired</th>\n",
       "    </tr>\n",
       "  </thead>\n",
       "  <tbody>\n",
       "    <tr>\n",
       "      <th>0</th>\n",
       "      <td>256.0</td>\n",
       "      <td>3.0</td>\n",
       "      <td>86.0</td>\n",
       "      <td>1.0</td>\n",
       "      <td>0.0</td>\n",
       "      <td>116.0</td>\n",
       "      <td>12.0</td>\n",
       "      <td>0.0</td>\n",
       "      <td>7.0</td>\n",
       "      <td>38.0</td>\n",
       "      <td>1.0</td>\n",
       "    </tr>\n",
       "    <tr>\n",
       "      <th>1</th>\n",
       "      <td>3587.0</td>\n",
       "      <td>2.0</td>\n",
       "      <td>104.0</td>\n",
       "      <td>1.0</td>\n",
       "      <td>190.0</td>\n",
       "      <td>161.0</td>\n",
       "      <td>11.0</td>\n",
       "      <td>5.0</td>\n",
       "      <td>2.0</td>\n",
       "      <td>1.0</td>\n",
       "      <td>2.0</td>\n",
       "    </tr>\n",
       "    <tr>\n",
       "      <th>2</th>\n",
       "      <td>2590.0</td>\n",
       "      <td>7.0</td>\n",
       "      <td>97.0</td>\n",
       "      <td>0.0</td>\n",
       "      <td>163.0</td>\n",
       "      <td>117.0</td>\n",
       "      <td>11.0</td>\n",
       "      <td>8.0</td>\n",
       "      <td>2.0</td>\n",
       "      <td>14.0</td>\n",
       "      <td>1.0</td>\n",
       "    </tr>\n",
       "    <tr>\n",
       "      <th>3</th>\n",
       "      <td>696.0</td>\n",
       "      <td>6.0</td>\n",
       "      <td>94.0</td>\n",
       "      <td>1.0</td>\n",
       "      <td>75.0</td>\n",
       "      <td>116.0</td>\n",
       "      <td>12.0</td>\n",
       "      <td>6.0</td>\n",
       "      <td>7.0</td>\n",
       "      <td>38.0</td>\n",
       "      <td>0.0</td>\n",
       "    </tr>\n",
       "    <tr>\n",
       "      <th>4</th>\n",
       "      <td>1333.0</td>\n",
       "      <td>6.0</td>\n",
       "      <td>101.0</td>\n",
       "      <td>1.0</td>\n",
       "      <td>69.0</td>\n",
       "      <td>101.0</td>\n",
       "      <td>9.0</td>\n",
       "      <td>7.0</td>\n",
       "      <td>2.0</td>\n",
       "      <td>31.0</td>\n",
       "      <td>0.0</td>\n",
       "    </tr>\n",
       "    <tr>\n",
       "      <th>...</th>\n",
       "      <td>...</td>\n",
       "      <td>...</td>\n",
       "      <td>...</td>\n",
       "      <td>...</td>\n",
       "      <td>...</td>\n",
       "      <td>...</td>\n",
       "      <td>...</td>\n",
       "      <td>...</td>\n",
       "      <td>...</td>\n",
       "      <td>...</td>\n",
       "      <td>...</td>\n",
       "    </tr>\n",
       "    <tr>\n",
       "      <th>354102</th>\n",
       "      <td>0.0</td>\n",
       "      <td>3.0</td>\n",
       "      <td>98.0</td>\n",
       "      <td>1.0</td>\n",
       "      <td>0.0</td>\n",
       "      <td>78.0</td>\n",
       "      <td>12.0</td>\n",
       "      <td>7.0</td>\n",
       "      <td>7.0</td>\n",
       "      <td>22.0</td>\n",
       "      <td>2.0</td>\n",
       "    </tr>\n",
       "    <tr>\n",
       "      <th>354103</th>\n",
       "      <td>923.0</td>\n",
       "      <td>3.0</td>\n",
       "      <td>98.0</td>\n",
       "      <td>2.0</td>\n",
       "      <td>0.0</td>\n",
       "      <td>161.0</td>\n",
       "      <td>2.0</td>\n",
       "      <td>1.0</td>\n",
       "      <td>5.0</td>\n",
       "      <td>33.0</td>\n",
       "      <td>1.0</td>\n",
       "    </tr>\n",
       "    <tr>\n",
       "      <th>354104</th>\n",
       "      <td>568.0</td>\n",
       "      <td>1.0</td>\n",
       "      <td>93.0</td>\n",
       "      <td>0.0</td>\n",
       "      <td>101.0</td>\n",
       "      <td>106.0</td>\n",
       "      <td>11.0</td>\n",
       "      <td>3.0</td>\n",
       "      <td>7.0</td>\n",
       "      <td>32.0</td>\n",
       "      <td>0.0</td>\n",
       "    </tr>\n",
       "    <tr>\n",
       "      <th>354105</th>\n",
       "      <td>2492.0</td>\n",
       "      <td>0.0</td>\n",
       "      <td>89.0</td>\n",
       "      <td>1.0</td>\n",
       "      <td>102.0</td>\n",
       "      <td>225.0</td>\n",
       "      <td>12.0</td>\n",
       "      <td>3.0</td>\n",
       "      <td>2.0</td>\n",
       "      <td>38.0</td>\n",
       "      <td>0.0</td>\n",
       "    </tr>\n",
       "    <tr>\n",
       "      <th>354106</th>\n",
       "      <td>1274.0</td>\n",
       "      <td>8.0</td>\n",
       "      <td>95.0</td>\n",
       "      <td>1.0</td>\n",
       "      <td>100.0</td>\n",
       "      <td>116.0</td>\n",
       "      <td>12.0</td>\n",
       "      <td>6.0</td>\n",
       "      <td>2.0</td>\n",
       "      <td>38.0</td>\n",
       "      <td>1.0</td>\n",
       "    </tr>\n",
       "  </tbody>\n",
       "</table>\n",
       "<p>354107 rows × 11 columns</p>\n",
       "</div>"
      ],
      "text/plain": [
       "         price  vehicletype  registrationyear  gearbox  power  model  mileage  \\\n",
       "0        256.0          3.0              86.0      1.0    0.0  116.0     12.0   \n",
       "1       3587.0          2.0             104.0      1.0  190.0  161.0     11.0   \n",
       "2       2590.0          7.0              97.0      0.0  163.0  117.0     11.0   \n",
       "3        696.0          6.0              94.0      1.0   75.0  116.0     12.0   \n",
       "4       1333.0          6.0             101.0      1.0   69.0  101.0      9.0   \n",
       "...        ...          ...               ...      ...    ...    ...      ...   \n",
       "354102     0.0          3.0              98.0      1.0    0.0   78.0     12.0   \n",
       "354103   923.0          3.0              98.0      2.0    0.0  161.0      2.0   \n",
       "354104   568.0          1.0              93.0      0.0  101.0  106.0     11.0   \n",
       "354105  2492.0          0.0              89.0      1.0  102.0  225.0     12.0   \n",
       "354106  1274.0          8.0              95.0      1.0  100.0  116.0     12.0   \n",
       "\n",
       "        registrationmonth  fueltype  brand  notrepaired  \n",
       "0                     0.0       7.0   38.0          1.0  \n",
       "1                     5.0       2.0    1.0          2.0  \n",
       "2                     8.0       2.0   14.0          1.0  \n",
       "3                     6.0       7.0   38.0          0.0  \n",
       "4                     7.0       2.0   31.0          0.0  \n",
       "...                   ...       ...    ...          ...  \n",
       "354102                7.0       7.0   22.0          2.0  \n",
       "354103                1.0       5.0   33.0          1.0  \n",
       "354104                3.0       7.0   32.0          0.0  \n",
       "354105                3.0       2.0   38.0          0.0  \n",
       "354106                6.0       2.0   38.0          1.0  \n",
       "\n",
       "[354107 rows x 11 columns]"
      ]
     },
     "execution_count": 15,
     "metadata": {},
     "output_type": "execute_result"
    }
   ],
   "source": [
    "encoder = OrdinalEncoder()\n",
    "data_ordinal = pd.DataFrame(encoder.fit_transform(df), columns=df.columns)\n",
    "data_ordinal"
   ]
  },
  {
   "cell_type": "markdown",
   "metadata": {},
   "source": [
    "### Segmentación de los Datos\n",
    "\n",
    "Procederemos a separar los datos de entrenamiento y test."
   ]
  },
  {
   "cell_type": "code",
   "execution_count": 16,
   "metadata": {},
   "outputs": [
    {
     "name": "stdout",
     "output_type": "stream",
     "text": [
      "(283285, 11)\n",
      "(70822, 11)\n"
     ]
    }
   ],
   "source": [
    "df_train, df_valid = train_test_split(data_ordinal, test_size = 0.2, random_state = 1702)\n",
    "print(df_train.shape)\n",
    "print(df_valid.shape)"
   ]
  },
  {
   "cell_type": "code",
   "execution_count": 17,
   "metadata": {},
   "outputs": [],
   "source": [
    "features_train = df_train.drop('price', axis=1)\n",
    "target_train = df_train['price']\n",
    "features_valid = df_valid.drop('price', axis=1)\n",
    "target_valid = df_valid[\"price\"]"
   ]
  },
  {
   "cell_type": "markdown",
   "metadata": {},
   "source": [
    "### Estandarización de los Datos\n",
    "\n",
    "Utilizaremos la estandarización de nuestros datos para ajustarlos a una medida que no afecte el algoritmo en base a sus dimensiones individuales por columna. Es decir, que todos sean proporcionalmente iguales entre sí. Ahora, se elige la estandarización porque tiene muy buenos resultados con algoritmos basados en gradiente, que es algo que utilizaremos como modelos en los siguientes apartados."
   ]
  },
  {
   "cell_type": "code",
   "execution_count": 18,
   "metadata": {},
   "outputs": [],
   "source": [
    "scaler = StandardScaler()\n",
    "scaler.fit(features_train)\n",
    "features_train = scaler.transform(features_train)\n",
    "features_valid = scaler.transform(features_valid)\n"
   ]
  },
  {
   "cell_type": "markdown",
   "metadata": {},
   "source": [
    " Habiendo culminado este último paso, podemos pasar a entrenar los modelos mediante sus algoritmos respectivos."
   ]
  },
  {
   "cell_type": "markdown",
   "metadata": {},
   "source": [
    "## Entrenamiento del modelo "
   ]
  },
  {
   "cell_type": "markdown",
   "metadata": {},
   "source": [
    "Habiendo preprocesado todos los datos, comenzaremos con los respectivos algoritmos de entrenamiento de los diferentes modelos."
   ]
  },
  {
   "cell_type": "markdown",
   "metadata": {},
   "source": [
    "### Regresión Lineal\n",
    "\n",
    "La regresion lineal es bastante limitada en cuanto a sus hiperparámetros, por lo que efectuamos su algoritmo y entrenamos los datos."
   ]
  },
  {
   "cell_type": "code",
   "execution_count": 19,
   "metadata": {},
   "outputs": [
    {
     "name": "stdout",
     "output_type": "stream",
     "text": [
      "RMSE del modelo es: 669.1\n",
      "media predicciones 1316.17\n",
      "media real 1317.01\n",
      "CPU times: user 50.3 ms, sys: 63.8 ms, total: 114 ms\n",
      "Wall time: 97.9 ms\n"
     ]
    }
   ],
   "source": [
    "%%time\n",
    "model = LinearRegression()\n",
    "model.fit(features_train, target_train)\n",
    "predictions = model.predict(features_valid)\n",
    "\n",
    "result = mean_squared_error(target_valid,predictions)**0.5\n",
    "print(\"RMSE del modelo es:\", result.round(2))\n",
    "\n",
    "print(\"media predicciones\",predictions.mean().round(2))\n",
    "print(\"media real\", target_valid.mean().round(2))\n"
   ]
  },
  {
   "cell_type": "markdown",
   "metadata": {},
   "source": [
    "### Bosque Aleatorio\n",
    "\n",
    "Partimos haciendo una prueba para revisar cuáles serían los mejores parámetros para nuestros datos, utilizando para ello GridSeach Cross Validation (por el tiempo que se demoró en efectuarlo, dejaré aquello en la celda como comentario)."
   ]
  },
  {
   "cell_type": "code",
   "execution_count": 20,
   "metadata": {},
   "outputs": [],
   "source": [
    "#%%time\n",
    "\n",
    "#param_grid = {'n_estimators': [50, 100, 200], 'max_depth': [None, 5, 10]}\n",
    "\n",
    "## Se crea un modelo para random forest\n",
    "# model2 = RandomForestRegressor(random_state=1702)\n",
    "# se genera un grid search para sus hiperparametros\n",
    "#grid_search = GridSearchCV(model2, param_grid, cv=5, scoring='neg_mean_squared_error')\n",
    "#grid_search.fit(features_train, target_train)\n",
    "\n",
    "# Para obtener nuestros resultados\n",
    "#best_params = grid_search.best_params_\n",
    "#best_score = -grid_search.best_score_\n",
    "\n",
    "#print(\"Best Parameters:\", best_params)\n",
    "#print(\"Best Score (MSE):\", best_score)"
   ]
  },
  {
   "cell_type": "markdown",
   "metadata": {},
   "source": [
    "Los parametros que arrojaron fueron los siguientes:\n",
    "\n",
    "- Best Parameters: {'max_depth': None, 'n_estimators': 200}\n",
    "- Best Score (MSE): 150904.91533997003\n",
    "\n",
    "- CPU times: user 40min 53s, sys: 13.55 s, total: 41min 1s\n",
    "- Wall time: 41min 1s\n",
    "\n",
    "Considerar que al intentar con n_estimators superiores a 200 el kernel simplemente dejaba de funcionar."
   ]
  },
  {
   "cell_type": "code",
   "execution_count": 21,
   "metadata": {
    "scrolled": false
   },
   "outputs": [
    {
     "name": "stdout",
     "output_type": "stream",
     "text": [
      "El RMSE del modelo es (n_estimators =  200 ): 380.88009060130827\n",
      "media predicciones 1316.83\n",
      "media real 1317.01\n",
      "\n",
      "CPU times: user 2min 22s, sys: 1.21 s, total: 2min 24s\n",
      "Wall time: 2min 24s\n"
     ]
    }
   ],
   "source": [
    "%%time\n",
    "est = 200\n",
    "model2 = RandomForestRegressor(random_state=1702, n_estimators=est, max_depth = None) \n",
    "model2.fit(features_train, target_train) # entrena el modelo en el conjunto de entrenamiento\n",
    "predicted = model2.predict(features_valid)\n",
    "rmse = mean_squared_error(target_valid,predicted)**0.5\n",
    "print(\"El RMSE del modelo es (n_estimators = \", est,\"):\", rmse)\n",
    "print(\"media predicciones\",predicted.mean().round(2))\n",
    "print(\"media real\", target_valid.mean().round(2))\n",
    "print()\n"
   ]
  },
  {
   "cell_type": "markdown",
   "metadata": {},
   "source": [
    "Se logra reducir el RMSE con respecto a la regresión lineal prácticamente a la mitad. Con esto, sumado a la modificación de hiperparámetros, se puede decir que vamos por buen camino."
   ]
  },
  {
   "cell_type": "markdown",
   "metadata": {},
   "source": [
    "### Árbol de Decisión\n",
    "\n",
    "Efectuando la misma cross validación para el árbol, tenemos:\n",
    "\n",
    "Se deja en comentario por el tiempo que lleva efectuarla."
   ]
  },
  {
   "cell_type": "code",
   "execution_count": 25,
   "metadata": {
    "scrolled": false
   },
   "outputs": [],
   "source": [
    "#param_grid = {\n",
    "#    'max_depth': [10, 20, 30, None],\n",
    "#    'min_samples_split': [2, 5, 10],\n",
    "#    'min_samples_leaf': [1, 2, 4]\n",
    "#}\n",
    "#dtree_reg = DecisionTreeRegressor(random_state=1702) # Initialize a decision tree regressor\n",
    "#grid_search = GridSearchCV(estimator=dtree_reg, param_grid=param_grid, \n",
    "#                           cv=5, n_jobs=-1, verbose=0, scoring='neg_mean_squared_error')\n",
    "#grid_search.fit(features_train, target_train)\n",
    "#best_dtree_reg = grid_search.best_estimator_\n",
    "#predicted_tree = best_dtree_reg.predict(features_valid)\n",
    "#mse = mean_squared_error(target_valid, predicted_tree)\n",
    "#rmse = mse ** 0.5\n",
    "#best_params = grid_search.best_params_\n",
    "#print(f\"Best parameters: {best_params}\")\n",
    "#print(f\"Test RMSE: {rmse}\")"
   ]
  },
  {
   "cell_type": "markdown",
   "metadata": {},
   "source": [
    "Utilizaremos parámetros cercanos para nuestro modelo:\n",
    "\n",
    "- max_depth = 16\n",
    "- min_samples_leaf = 4\n",
    "- min_samples_split = 10"
   ]
  },
  {
   "cell_type": "markdown",
   "metadata": {},
   "source": [
    "Ya que el proceso se demoraba un poco más, manualmente encontramos que a una profundidad de 16 existe un mejor valor del RMSE por lo que nos quedaremos con aquel. Lo cual, independientemente del caso, no supera al RMSE del árbol aleatorio."
   ]
  },
  {
   "cell_type": "code",
   "execution_count": 26,
   "metadata": {
    "scrolled": false
   },
   "outputs": [
    {
     "name": "stdout",
     "output_type": "stream",
     "text": [
      "El RMSE del modelo es 425.21539361427494\n",
      "media predicciones 1316.17\n",
      "media real 1317.01\n",
      "\n",
      "CPU times: user 818 ms, sys: 22 µs, total: 818 ms\n",
      "Wall time: 817 ms\n"
     ]
    }
   ],
   "source": [
    "%%time\n",
    "model3 = DecisionTreeRegressor(random_state = 1702, max_depth =16, min_samples_leaf = 4, min_samples_split = 10)  \n",
    "model3.fit(features_train, target_train) \n",
    "predictions_tree = model3.predict(features_valid)\n",
    "rmse2 = mean_squared_error(target_valid,predictions_tree)**0.5\n",
    "\n",
    "print(\"El RMSE del modelo es\", rmse2)\n",
    "print(\"media predicciones\",predictions_tree.mean().round(2))\n",
    "print(\"media real\", target_valid.mean().round(2))\n",
    "print()"
   ]
  },
  {
   "cell_type": "markdown",
   "metadata": {},
   "source": [
    "Su RMSE no es mejor que le árbol, pero siempre mejor que la regresión lineal."
   ]
  },
  {
   "cell_type": "markdown",
   "metadata": {},
   "source": [
    "### LightGBM\n",
    "\n",
    "Dejaré el codigo utilizado para verificar sus mejores parámetros como comentario con el resultado al final ya que tomó bastante tiempo."
   ]
  },
  {
   "cell_type": "code",
   "execution_count": null,
   "metadata": {},
   "outputs": [],
   "source": [
    "#estimator = lgb.LGBMRegressor(num_leaves=31)\n",
    "\n",
    "#param_grid = {\"learning_rate\": [0.1, 0.5, 1], \"n_estimators\": [1000, 1100, 1200,1300,1400,1500]}\n",
    "\n",
    "#gbm = GridSearchCV(estimator, param_grid, cv=3)\n",
    "#gbm.fit(features_train, target_train)\n",
    "\n",
    "#print(f\"Los mejores parámetros de GridSearch son: {gbm.best_params_}\")\n",
    "\n",
    "###Resultado###\n",
    "#Los mejores parámetros de GridSearch son: {'learning_rate': 0.1, 'n_estimators': 1500}\n"
   ]
  },
  {
   "cell_type": "code",
   "execution_count": 27,
   "metadata": {},
   "outputs": [
    {
     "name": "stdout",
     "output_type": "stream",
     "text": [
      "El RMSE del modelo es 367.1770308304506\n",
      "media predicciones 1316.51\n",
      "media real 1317.01\n",
      "\n",
      "CPU times: user 30 s, sys: 135 ms, total: 30.1 s\n",
      "Wall time: 30.1 s\n"
     ]
    }
   ],
   "source": [
    "%%time\n",
    "model4 = LGBMRegressor(random_state= 1702,num_leaves=31, learning_rate=0.1, n_estimators=1500)\n",
    "\n",
    "# Train the model using the training data.\n",
    "model4.fit(features_train, target_train)\n",
    "\n",
    "# Make predictions on the training and validation data.\n",
    "predictions_lgb = model4.predict(features_valid, num_iteration= model4.best_iteration_)\n",
    "rmse3 = mean_squared_error(target_valid,predictions_lgb)**0.5\n",
    "\n",
    "\n",
    "print(\"El RMSE del modelo es\", rmse3)\n",
    "print(\"media predicciones\",predictions_lgb.mean().round(2))\n",
    "print(\"media real\", target_valid.mean().round(2))\n",
    "print()"
   ]
  },
  {
   "cell_type": "markdown",
   "metadata": {},
   "source": [
    "Hasta ahora LightGBM mediante nuestro proceso ha sido el que ha obtenido mejores resultados. Veamos ahora CatBoost"
   ]
  },
  {
   "cell_type": "markdown",
   "metadata": {},
   "source": [
    "### CatBoost"
   ]
  },
  {
   "cell_type": "code",
   "execution_count": 28,
   "metadata": {},
   "outputs": [
    {
     "name": "stdout",
     "output_type": "stream",
     "text": [
      "999\n"
     ]
    }
   ],
   "source": [
    "eval_dataset = Pool(features_valid, target_valid)\n",
    "model5 = CatBoostRegressor(learning_rate = 0.03 , eval_metric='RMSE')\n",
    "model5.fit(features_train,target_train, eval_set=eval_dataset, verbose=False)\n",
    "\n",
    "print(model5.get_best_iteration())"
   ]
  },
  {
   "cell_type": "markdown",
   "metadata": {},
   "source": [
    "Nos señala que con esos parámetros su mejor iteración es 999. "
   ]
  },
  {
   "cell_type": "code",
   "execution_count": 40,
   "metadata": {
    "scrolled": true
   },
   "outputs": [
    {
     "name": "stdout",
     "output_type": "stream",
     "text": [
      "El RMSE del modelo es 373.99884017688805\n",
      "media predicciones 1316.1\n",
      "media real 1317.01\n",
      "\n",
      "CPU times: user 30.6 s, sys: 27.9 ms, total: 30.6 s\n",
      "Wall time: 30.7 s\n"
     ]
    }
   ],
   "source": [
    "%%time\n",
    "train_pool = Pool(features_train, target_train)\n",
    "target_pool = Pool(features_valid)\n",
    "\n",
    "model5 = CatBoostRegressor(random_state = 1702, iterations=999, depth=6, \n",
    "                           learning_rate=0.6, loss_function='RMSE', silent= True)\n",
    "model5.fit(train_pool)\n",
    "preds = model5.predict(target_pool)\n",
    "rmse4 = mean_squared_error(target_valid,preds)**0.5\n",
    "\n",
    "print(\"El RMSE del modelo es\", rmse4)\n",
    "print(\"media predicciones\",preds.mean().round(2))\n",
    "print(\"media real\", target_valid.mean().round(2))\n",
    "print()"
   ]
  },
  {
   "cell_type": "markdown",
   "metadata": {},
   "source": [
    "Con esto, detendremos el modelo, ya que se obtuvo un tiempo similar al algoritmo LightGBM."
   ]
  },
  {
   "cell_type": "markdown",
   "metadata": {},
   "source": [
    "## Análisis del modelo"
   ]
  },
  {
   "cell_type": "markdown",
   "metadata": {},
   "source": [
    "Para determinar nuestro mejor modelo haremos un resumen:"
   ]
  },
  {
   "cell_type": "markdown",
   "metadata": {},
   "source": [
    "                           RMSE         Tiempo de Ejecución\n",
    "                           \n",
    "    - Regresión Lineal :   669.1        114ms (milisegundos)\n",
    "    - Bosque Aleatorio :   380.88       2min 24s \n",
    "    - Árbol de Decisión:   425.21       818ms\n",
    "    - LightGBM         :   367.18       30.1s\n",
    "    - Catboost         :   373.99.      30.6s"
   ]
  },
  {
   "cell_type": "markdown",
   "metadata": {},
   "source": [
    "Considerando lo anterior, mediante el manejo de hiperparámetros y el valor de la raíz del error cuadrático medio, nuestro algoritmo para modelar el dataset y entrenarlo sería **LightGBM**.\n",
    "\n",
    "Su mismo nombre lo señala, light de liviano porque según sus propias pruebas mostradas en la documentación es un algoritmo de descenso de gradiente muy rápido y tiene mejor rendimiento que otros en la misma categoría.\n",
    "\n",
    "Ahora, debo insistir, que ya que los hiperparámetros seleccionados podrían haber sido optimizados aun más, puede que los resultados variasen de efectuar más pruebas. \n"
   ]
  }
 ],
 "metadata": {
  "ExecuteTimeLog": [
   {
    "duration": 992,
    "start_time": "2024-11-20T13:05:51.931Z"
   },
   {
    "duration": 608,
    "start_time": "2024-11-20T13:07:37.020Z"
   },
   {
    "duration": 610,
    "start_time": "2024-11-20T13:07:40.557Z"
   },
   {
    "duration": 702,
    "start_time": "2024-11-20T13:07:51.015Z"
   },
   {
    "duration": 704,
    "start_time": "2024-11-20T13:09:31.058Z"
   },
   {
    "duration": 4,
    "start_time": "2024-11-20T13:12:22.816Z"
   },
   {
    "duration": 1179,
    "start_time": "2024-11-20T13:12:37.072Z"
   },
   {
    "duration": 3,
    "start_time": "2024-11-20T13:12:47.056Z"
   },
   {
    "duration": 21,
    "start_time": "2024-11-20T13:12:49.154Z"
   },
   {
    "duration": 106,
    "start_time": "2024-11-20T13:23:41.109Z"
   },
   {
    "duration": 198,
    "start_time": "2024-11-20T13:55:10.419Z"
   },
   {
    "duration": 195,
    "start_time": "2024-11-20T13:55:16.594Z"
   },
   {
    "duration": 206,
    "start_time": "2024-11-20T13:55:26.376Z"
   },
   {
    "duration": 210,
    "start_time": "2024-11-20T13:56:11.692Z"
   },
   {
    "duration": 206,
    "start_time": "2024-11-20T13:56:43.719Z"
   },
   {
    "duration": 219,
    "start_time": "2024-11-20T13:57:09.592Z"
   },
   {
    "duration": 544,
    "start_time": "2024-11-20T13:57:40.937Z"
   },
   {
    "duration": 274,
    "start_time": "2024-11-20T13:57:52.281Z"
   },
   {
    "duration": 203,
    "start_time": "2024-11-20T13:57:59.223Z"
   },
   {
    "duration": 13,
    "start_time": "2024-11-20T14:08:14.777Z"
   },
   {
    "duration": 12,
    "start_time": "2024-11-20T14:08:22.874Z"
   },
   {
    "duration": 11,
    "start_time": "2024-11-20T14:08:26.072Z"
   },
   {
    "duration": 12,
    "start_time": "2024-11-20T14:08:44.448Z"
   },
   {
    "duration": 212,
    "start_time": "2024-11-20T14:09:38.355Z"
   },
   {
    "duration": 313,
    "start_time": "2024-11-20T14:09:42.270Z"
   },
   {
    "duration": 301,
    "start_time": "2024-11-20T14:09:51.220Z"
   },
   {
    "duration": 729,
    "start_time": "2024-11-20T14:16:03.578Z"
   },
   {
    "duration": 508,
    "start_time": "2024-11-20T14:16:04.309Z"
   },
   {
    "duration": 18,
    "start_time": "2024-11-20T14:16:04.819Z"
   },
   {
    "duration": 104,
    "start_time": "2024-11-20T14:16:04.838Z"
   },
   {
    "duration": 34,
    "start_time": "2024-11-20T14:24:53.167Z"
   },
   {
    "duration": 28,
    "start_time": "2024-11-20T14:25:11.034Z"
   },
   {
    "duration": 880,
    "start_time": "2024-11-20T14:25:14.478Z"
   },
   {
    "duration": 976,
    "start_time": "2024-11-20T14:25:28.745Z"
   },
   {
    "duration": 589,
    "start_time": "2024-11-20T14:25:29.726Z"
   },
   {
    "duration": 19,
    "start_time": "2024-11-20T14:25:30.317Z"
   },
   {
    "duration": 51,
    "start_time": "2024-11-20T14:25:30.338Z"
   },
   {
    "duration": 59,
    "start_time": "2024-11-20T14:25:30.392Z"
   },
   {
    "duration": 7,
    "start_time": "2024-11-20T14:27:43.029Z"
   },
   {
    "duration": 973,
    "start_time": "2024-11-20T14:28:16.683Z"
   },
   {
    "duration": 6,
    "start_time": "2024-11-20T14:28:25.708Z"
   },
   {
    "duration": 782,
    "start_time": "2024-11-20T14:28:39.251Z"
   },
   {
    "duration": 554,
    "start_time": "2024-11-20T14:28:40.035Z"
   },
   {
    "duration": 18,
    "start_time": "2024-11-20T14:28:40.590Z"
   },
   {
    "duration": 39,
    "start_time": "2024-11-20T14:28:40.610Z"
   },
   {
    "duration": 643,
    "start_time": "2024-11-20T14:28:40.651Z"
   },
   {
    "duration": 0,
    "start_time": "2024-11-20T14:28:41.295Z"
   },
   {
    "duration": 21,
    "start_time": "2024-11-20T14:31:31.564Z"
   },
   {
    "duration": 33,
    "start_time": "2024-11-20T14:32:31.354Z"
   },
   {
    "duration": 26,
    "start_time": "2024-11-20T14:32:47.658Z"
   },
   {
    "duration": 29,
    "start_time": "2024-11-20T14:34:02.418Z"
   },
   {
    "duration": 25,
    "start_time": "2024-11-20T14:34:13.217Z"
   },
   {
    "duration": 175,
    "start_time": "2024-11-20T14:40:50.728Z"
   },
   {
    "duration": 789,
    "start_time": "2024-11-20T14:41:05.517Z"
   },
   {
    "duration": 506,
    "start_time": "2024-11-20T14:41:06.308Z"
   },
   {
    "duration": 16,
    "start_time": "2024-11-20T14:41:06.817Z"
   },
   {
    "duration": 271,
    "start_time": "2024-11-20T14:41:06.835Z"
   },
   {
    "duration": 43,
    "start_time": "2024-11-20T14:41:07.109Z"
   },
   {
    "duration": 36,
    "start_time": "2024-11-20T14:41:07.154Z"
   },
   {
    "duration": 25,
    "start_time": "2024-11-20T14:41:07.191Z"
   },
   {
    "duration": 75,
    "start_time": "2024-11-20T14:41:07.218Z"
   },
   {
    "duration": 613,
    "start_time": "2024-11-20T14:46:05.832Z"
   },
   {
    "duration": 14,
    "start_time": "2024-11-20T14:46:31.575Z"
   },
   {
    "duration": 788,
    "start_time": "2024-11-20T14:46:37.815Z"
   },
   {
    "duration": 515,
    "start_time": "2024-11-20T14:46:38.605Z"
   },
   {
    "duration": 17,
    "start_time": "2024-11-20T14:46:39.122Z"
   },
   {
    "duration": 269,
    "start_time": "2024-11-20T14:46:39.141Z"
   },
   {
    "duration": 30,
    "start_time": "2024-11-20T14:46:39.412Z"
   },
   {
    "duration": 16,
    "start_time": "2024-11-20T14:46:39.444Z"
   },
   {
    "duration": 46,
    "start_time": "2024-11-20T14:46:39.462Z"
   },
   {
    "duration": 26,
    "start_time": "2024-11-20T14:46:39.510Z"
   },
   {
    "duration": 105,
    "start_time": "2024-11-20T14:46:39.537Z"
   },
   {
    "duration": 26,
    "start_time": "2024-11-20T14:54:11.598Z"
   },
   {
    "duration": 284,
    "start_time": "2024-11-20T14:54:22.175Z"
   },
   {
    "duration": 267,
    "start_time": "2024-11-20T14:54:29.249Z"
   },
   {
    "duration": 351,
    "start_time": "2024-11-20T14:54:34.082Z"
   },
   {
    "duration": 31,
    "start_time": "2024-11-20T15:06:11.920Z"
   },
   {
    "duration": 927,
    "start_time": "2024-11-20T15:06:22.815Z"
   },
   {
    "duration": 782,
    "start_time": "2024-11-20T15:06:34.986Z"
   },
   {
    "duration": 516,
    "start_time": "2024-11-20T15:06:35.771Z"
   },
   {
    "duration": 17,
    "start_time": "2024-11-20T15:06:36.289Z"
   },
   {
    "duration": 261,
    "start_time": "2024-11-20T15:06:36.307Z"
   },
   {
    "duration": 31,
    "start_time": "2024-11-20T15:06:36.571Z"
   },
   {
    "duration": 363,
    "start_time": "2024-11-20T15:06:36.604Z"
   },
   {
    "duration": 102,
    "start_time": "2024-11-20T15:06:36.969Z"
   },
   {
    "duration": 36,
    "start_time": "2024-11-20T15:06:37.072Z"
   },
   {
    "duration": 24,
    "start_time": "2024-11-20T15:06:37.110Z"
   },
   {
    "duration": 75,
    "start_time": "2024-11-20T15:06:37.136Z"
   },
   {
    "duration": 27,
    "start_time": "2024-11-20T15:07:02.606Z"
   },
   {
    "duration": 26,
    "start_time": "2024-11-20T15:07:16.392Z"
   },
   {
    "duration": 24,
    "start_time": "2024-11-20T15:07:55.558Z"
   },
   {
    "duration": 26,
    "start_time": "2024-11-20T15:08:02.300Z"
   },
   {
    "duration": 30,
    "start_time": "2024-11-20T15:10:55.949Z"
   },
   {
    "duration": 25,
    "start_time": "2024-11-20T15:11:04.020Z"
   },
   {
    "duration": 29,
    "start_time": "2024-11-20T15:11:38.133Z"
   },
   {
    "duration": 39,
    "start_time": "2024-11-20T15:11:43.780Z"
   },
   {
    "duration": 38,
    "start_time": "2024-11-20T15:12:02.154Z"
   },
   {
    "duration": 16,
    "start_time": "2024-11-20T15:18:00.339Z"
   },
   {
    "duration": 18,
    "start_time": "2024-11-20T15:18:11.506Z"
   },
   {
    "duration": 30,
    "start_time": "2024-11-20T15:18:19.811Z"
   },
   {
    "duration": 70,
    "start_time": "2024-11-20T15:19:56.207Z"
   },
   {
    "duration": 35,
    "start_time": "2024-11-20T15:20:07.903Z"
   },
   {
    "duration": 26,
    "start_time": "2024-11-20T15:20:11.053Z"
   },
   {
    "duration": 5,
    "start_time": "2024-11-20T15:20:20.792Z"
   },
   {
    "duration": 13,
    "start_time": "2024-11-20T15:20:26.315Z"
   },
   {
    "duration": 3,
    "start_time": "2024-11-20T15:24:38.307Z"
   },
   {
    "duration": 100,
    "start_time": "2024-11-20T15:24:48.583Z"
   },
   {
    "duration": 746,
    "start_time": "2024-11-20T15:24:55.360Z"
   },
   {
    "duration": 505,
    "start_time": "2024-11-20T15:24:56.108Z"
   },
   {
    "duration": 17,
    "start_time": "2024-11-20T15:24:56.616Z"
   },
   {
    "duration": 253,
    "start_time": "2024-11-20T15:24:56.635Z"
   },
   {
    "duration": 28,
    "start_time": "2024-11-20T15:24:56.893Z"
   },
   {
    "duration": 350,
    "start_time": "2024-11-20T15:24:56.923Z"
   },
   {
    "duration": 98,
    "start_time": "2024-11-20T15:24:57.275Z"
   },
   {
    "duration": 33,
    "start_time": "2024-11-20T15:24:57.375Z"
   },
   {
    "duration": 24,
    "start_time": "2024-11-20T15:24:57.410Z"
   },
   {
    "duration": 26,
    "start_time": "2024-11-20T15:24:57.436Z"
   },
   {
    "duration": 46,
    "start_time": "2024-11-20T15:24:57.463Z"
   },
   {
    "duration": 25,
    "start_time": "2024-11-20T15:24:57.512Z"
   },
   {
    "duration": 110,
    "start_time": "2024-11-20T15:24:57.539Z"
   },
   {
    "duration": 110,
    "start_time": "2024-11-20T15:25:12.286Z"
   },
   {
    "duration": 141,
    "start_time": "2024-11-20T15:34:11.044Z"
   },
   {
    "duration": 219,
    "start_time": "2024-11-20T15:37:12.478Z"
   },
   {
    "duration": 59,
    "start_time": "2024-11-20T15:37:20.847Z"
   },
   {
    "duration": 2,
    "start_time": "2024-11-20T15:45:35.944Z"
   },
   {
    "duration": 3,
    "start_time": "2024-11-20T15:46:05.591Z"
   },
   {
    "duration": 73,
    "start_time": "2024-11-20T18:08:56.343Z"
   },
   {
    "duration": 108,
    "start_time": "2024-11-20T18:13:14.341Z"
   },
   {
    "duration": 108,
    "start_time": "2024-11-20T18:13:36.222Z"
   },
   {
    "duration": 13,
    "start_time": "2024-11-20T18:18:22.525Z"
   },
   {
    "duration": 4,
    "start_time": "2024-11-20T18:19:00.383Z"
   },
   {
    "duration": 4,
    "start_time": "2024-11-20T18:20:18.000Z"
   },
   {
    "duration": 61,
    "start_time": "2024-11-20T19:55:13.597Z"
   },
   {
    "duration": 87,
    "start_time": "2024-11-20T19:55:22.262Z"
   },
   {
    "duration": 67,
    "start_time": "2024-11-20T19:55:29.384Z"
   },
   {
    "duration": 76,
    "start_time": "2024-11-20T19:55:35.517Z"
   },
   {
    "duration": 66,
    "start_time": "2024-11-20T19:55:40.705Z"
   },
   {
    "duration": 74,
    "start_time": "2024-11-20T19:55:52.754Z"
   },
   {
    "duration": 74,
    "start_time": "2024-11-20T19:56:37.856Z"
   },
   {
    "duration": 20,
    "start_time": "2024-11-20T19:57:38.327Z"
   },
   {
    "duration": 21,
    "start_time": "2024-11-20T20:07:13.139Z"
   },
   {
    "duration": 15,
    "start_time": "2024-11-20T20:07:20.504Z"
   },
   {
    "duration": 15,
    "start_time": "2024-11-20T20:07:24.796Z"
   },
   {
    "duration": 15,
    "start_time": "2024-11-20T20:07:26.630Z"
   },
   {
    "duration": 15,
    "start_time": "2024-11-20T20:07:28.216Z"
   },
   {
    "duration": 28,
    "start_time": "2024-11-20T20:07:38.082Z"
   },
   {
    "duration": 11,
    "start_time": "2024-11-20T20:07:52.473Z"
   },
   {
    "duration": 3,
    "start_time": "2024-11-20T20:17:41.618Z"
   },
   {
    "duration": 2,
    "start_time": "2024-11-20T20:33:43.372Z"
   },
   {
    "duration": 507,
    "start_time": "2024-11-20T20:37:18.860Z"
   },
   {
    "duration": 593,
    "start_time": "2024-11-20T20:37:33.151Z"
   },
   {
    "duration": 23,
    "start_time": "2024-11-20T20:41:19.149Z"
   },
   {
    "duration": 32,
    "start_time": "2024-11-20T20:41:27.764Z"
   },
   {
    "duration": 8,
    "start_time": "2024-11-20T20:41:38.913Z"
   },
   {
    "duration": 6,
    "start_time": "2024-11-20T20:45:12.217Z"
   },
   {
    "duration": 3,
    "start_time": "2024-11-20T20:55:20.834Z"
   },
   {
    "duration": 93,
    "start_time": "2024-11-20T20:58:25.074Z"
   },
   {
    "duration": 74,
    "start_time": "2024-11-20T20:58:30.823Z"
   },
   {
    "duration": 92,
    "start_time": "2024-11-20T20:58:38.058Z"
   },
   {
    "duration": 60,
    "start_time": "2024-11-20T20:58:49.602Z"
   },
   {
    "duration": 2,
    "start_time": "2024-11-21T15:19:08.281Z"
   },
   {
    "duration": 253,
    "start_time": "2024-11-21T15:23:02.312Z"
   },
   {
    "duration": 761,
    "start_time": "2024-11-21T15:23:23.104Z"
   },
   {
    "duration": 602,
    "start_time": "2024-11-21T15:23:23.867Z"
   },
   {
    "duration": 19,
    "start_time": "2024-11-21T15:23:24.471Z"
   },
   {
    "duration": 258,
    "start_time": "2024-11-21T15:23:24.492Z"
   },
   {
    "duration": 27,
    "start_time": "2024-11-21T15:23:24.752Z"
   },
   {
    "duration": 369,
    "start_time": "2024-11-21T15:23:24.781Z"
   },
   {
    "duration": 107,
    "start_time": "2024-11-21T15:23:25.152Z"
   },
   {
    "duration": 25,
    "start_time": "2024-11-21T15:23:25.261Z"
   },
   {
    "duration": 25,
    "start_time": "2024-11-21T15:23:25.288Z"
   },
   {
    "duration": 26,
    "start_time": "2024-11-21T15:23:25.332Z"
   },
   {
    "duration": 26,
    "start_time": "2024-11-21T15:23:25.359Z"
   },
   {
    "duration": 45,
    "start_time": "2024-11-21T15:23:25.386Z"
   },
   {
    "duration": 109,
    "start_time": "2024-11-21T15:23:25.433Z"
   },
   {
    "duration": 63,
    "start_time": "2024-11-21T15:23:25.544Z"
   },
   {
    "duration": 519,
    "start_time": "2024-11-21T15:23:25.608Z"
   },
   {
    "duration": 24,
    "start_time": "2024-11-21T15:23:26.131Z"
   },
   {
    "duration": 12,
    "start_time": "2024-11-21T15:23:26.156Z"
   },
   {
    "duration": 85,
    "start_time": "2024-11-21T15:23:26.170Z"
   },
   {
    "duration": 81,
    "start_time": "2024-11-21T15:23:26.256Z"
   },
   {
    "duration": 1031,
    "start_time": "2024-11-21T15:28:47.701Z"
   },
   {
    "duration": 525145,
    "start_time": "2024-11-21T15:28:59.868Z"
   },
   {
    "duration": 7386,
    "start_time": "2024-11-21T15:39:01.631Z"
   },
   {
    "duration": 33151,
    "start_time": "2024-11-21T15:40:12.092Z"
   },
   {
    "duration": 108,
    "start_time": "2024-11-21T15:43:12.304Z"
   },
   {
    "duration": 89,
    "start_time": "2024-11-21T15:44:00.561Z"
   },
   {
    "duration": 85,
    "start_time": "2024-11-21T15:47:38.958Z"
   },
   {
    "duration": 139259,
    "start_time": "2024-11-21T15:47:56.014Z"
   },
   {
    "duration": 77,
    "start_time": "2024-11-21T15:50:15.275Z"
   },
   {
    "duration": 114,
    "start_time": "2024-11-21T15:51:26.218Z"
   },
   {
    "duration": 58,
    "start_time": "2024-11-21T15:51:44.997Z"
   },
   {
    "duration": 101,
    "start_time": "2024-11-21T15:52:06.235Z"
   },
   {
    "duration": 0,
    "start_time": "2024-11-21T15:54:37.979Z"
   },
   {
    "duration": 4444,
    "start_time": "2024-11-21T15:54:40.954Z"
   },
   {
    "duration": 4452,
    "start_time": "2024-11-21T15:55:07.905Z"
   },
   {
    "duration": 63,
    "start_time": "2024-11-21T15:55:29.493Z"
   },
   {
    "duration": 1146193,
    "start_time": "2024-11-21T16:03:23.958Z"
   },
   {
    "duration": 758,
    "start_time": "2024-11-21T16:25:00.653Z"
   },
   {
    "duration": 2214,
    "start_time": "2024-11-21T16:25:18.071Z"
   },
   {
    "duration": 2277,
    "start_time": "2024-11-21T16:25:32.961Z"
   },
   {
    "duration": 4435,
    "start_time": "2024-11-21T16:25:44.846Z"
   },
   {
    "duration": 33245,
    "start_time": "2024-11-21T16:26:26.222Z"
   },
   {
    "duration": 140966,
    "start_time": "2024-11-21T16:27:20.476Z"
   },
   {
    "duration": 4446,
    "start_time": "2024-11-21T16:33:31.629Z"
   },
   {
    "duration": 3634936,
    "start_time": "2024-11-21T16:34:18.433Z"
   },
   {
    "duration": 805,
    "start_time": "2024-11-22T12:25:10.989Z"
   },
   {
    "duration": 568,
    "start_time": "2024-11-22T12:25:11.796Z"
   },
   {
    "duration": 16,
    "start_time": "2024-11-22T12:25:12.370Z"
   },
   {
    "duration": 259,
    "start_time": "2024-11-22T12:25:12.389Z"
   },
   {
    "duration": 33,
    "start_time": "2024-11-22T12:25:12.650Z"
   },
   {
    "duration": 361,
    "start_time": "2024-11-22T12:25:12.684Z"
   },
   {
    "duration": 101,
    "start_time": "2024-11-22T12:25:13.047Z"
   },
   {
    "duration": 37,
    "start_time": "2024-11-22T12:25:13.150Z"
   },
   {
    "duration": 26,
    "start_time": "2024-11-22T12:25:13.189Z"
   },
   {
    "duration": 25,
    "start_time": "2024-11-22T12:25:13.217Z"
   },
   {
    "duration": 41,
    "start_time": "2024-11-22T12:25:13.244Z"
   },
   {
    "duration": 24,
    "start_time": "2024-11-22T12:25:13.287Z"
   },
   {
    "duration": 120,
    "start_time": "2024-11-22T12:25:13.313Z"
   },
   {
    "duration": 68,
    "start_time": "2024-11-22T12:25:13.435Z"
   },
   {
    "duration": 494,
    "start_time": "2024-11-22T12:25:13.505Z"
   },
   {
    "duration": 21,
    "start_time": "2024-11-22T12:25:14.001Z"
   },
   {
    "duration": 13,
    "start_time": "2024-11-22T12:25:14.024Z"
   },
   {
    "duration": 83,
    "start_time": "2024-11-22T12:25:14.039Z"
   },
   {
    "duration": 74,
    "start_time": "2024-11-22T12:25:14.125Z"
   },
   {
    "duration": 29122,
    "start_time": "2024-11-22T12:25:14.200Z"
   },
   {
    "duration": 28557,
    "start_time": "2024-11-22T12:26:35.968Z"
   },
   {
    "duration": 35162,
    "start_time": "2024-11-22T12:27:20.492Z"
   },
   {
    "duration": 70695,
    "start_time": "2024-11-22T12:28:02.076Z"
   },
   {
    "duration": 809,
    "start_time": "2024-11-22T12:32:10.493Z"
   },
   {
    "duration": 581,
    "start_time": "2024-11-22T12:32:11.304Z"
   },
   {
    "duration": 17,
    "start_time": "2024-11-22T12:32:11.887Z"
   },
   {
    "duration": 260,
    "start_time": "2024-11-22T12:32:11.907Z"
   },
   {
    "duration": 28,
    "start_time": "2024-11-22T12:32:12.171Z"
   },
   {
    "duration": 370,
    "start_time": "2024-11-22T12:32:12.200Z"
   },
   {
    "duration": 106,
    "start_time": "2024-11-22T12:32:12.572Z"
   },
   {
    "duration": 25,
    "start_time": "2024-11-22T12:32:12.680Z"
   },
   {
    "duration": 28,
    "start_time": "2024-11-22T12:32:12.707Z"
   },
   {
    "duration": 41,
    "start_time": "2024-11-22T12:32:12.738Z"
   },
   {
    "duration": 25,
    "start_time": "2024-11-22T12:32:12.781Z"
   },
   {
    "duration": 25,
    "start_time": "2024-11-22T12:32:12.808Z"
   },
   {
    "duration": 125,
    "start_time": "2024-11-22T12:32:12.834Z"
   },
   {
    "duration": 68,
    "start_time": "2024-11-22T12:32:12.961Z"
   },
   {
    "duration": 507,
    "start_time": "2024-11-22T12:32:13.030Z"
   },
   {
    "duration": 20,
    "start_time": "2024-11-22T12:32:13.539Z"
   },
   {
    "duration": 13,
    "start_time": "2024-11-22T12:32:13.571Z"
   },
   {
    "duration": 84,
    "start_time": "2024-11-22T12:32:13.586Z"
   },
   {
    "duration": 107,
    "start_time": "2024-11-22T12:32:13.671Z"
   },
   {
    "duration": 142029,
    "start_time": "2024-11-22T12:32:13.780Z"
   },
   {
    "duration": 92,
    "start_time": "2024-11-22T13:12:27.992Z"
   },
   {
    "duration": 761,
    "start_time": "2024-11-22T13:12:35.955Z"
   },
   {
    "duration": 571,
    "start_time": "2024-11-22T13:12:36.718Z"
   },
   {
    "duration": 17,
    "start_time": "2024-11-22T13:12:37.291Z"
   },
   {
    "duration": 249,
    "start_time": "2024-11-22T13:12:37.309Z"
   },
   {
    "duration": 26,
    "start_time": "2024-11-22T13:12:37.569Z"
   },
   {
    "duration": 358,
    "start_time": "2024-11-22T13:12:37.597Z"
   },
   {
    "duration": 101,
    "start_time": "2024-11-22T13:12:37.957Z"
   },
   {
    "duration": 32,
    "start_time": "2024-11-22T13:12:38.060Z"
   },
   {
    "duration": 26,
    "start_time": "2024-11-22T13:12:38.094Z"
   },
   {
    "duration": 25,
    "start_time": "2024-11-22T13:12:38.122Z"
   },
   {
    "duration": 42,
    "start_time": "2024-11-22T13:12:38.148Z"
   },
   {
    "duration": 23,
    "start_time": "2024-11-22T13:12:38.192Z"
   },
   {
    "duration": 122,
    "start_time": "2024-11-22T13:12:38.217Z"
   },
   {
    "duration": 65,
    "start_time": "2024-11-22T13:12:38.341Z"
   },
   {
    "duration": 499,
    "start_time": "2024-11-22T13:12:38.408Z"
   },
   {
    "duration": 20,
    "start_time": "2024-11-22T13:12:38.909Z"
   },
   {
    "duration": 14,
    "start_time": "2024-11-22T13:12:38.931Z"
   },
   {
    "duration": 88,
    "start_time": "2024-11-22T13:12:38.947Z"
   },
   {
    "duration": 67,
    "start_time": "2024-11-22T13:12:39.036Z"
   },
   {
    "duration": 73884,
    "start_time": "2024-11-22T13:12:39.105Z"
   },
   {
    "duration": 214,
    "start_time": "2024-11-22T13:41:09.484Z"
   },
   {
    "duration": 3,
    "start_time": "2024-11-22T13:41:21.250Z"
   },
   {
    "duration": 17,
    "start_time": "2024-11-22T13:41:27.982Z"
   },
   {
    "duration": 5,
    "start_time": "2024-11-22T13:41:41.166Z"
   },
   {
    "duration": 765,
    "start_time": "2024-11-22T13:48:06.837Z"
   },
   {
    "duration": 568,
    "start_time": "2024-11-22T13:48:07.604Z"
   },
   {
    "duration": 18,
    "start_time": "2024-11-22T13:48:08.174Z"
   },
   {
    "duration": 269,
    "start_time": "2024-11-22T13:48:08.194Z"
   },
   {
    "duration": 26,
    "start_time": "2024-11-22T13:48:08.465Z"
   },
   {
    "duration": 369,
    "start_time": "2024-11-22T13:48:08.493Z"
   },
   {
    "duration": 108,
    "start_time": "2024-11-22T13:48:08.863Z"
   },
   {
    "duration": 24,
    "start_time": "2024-11-22T13:48:08.973Z"
   },
   {
    "duration": 25,
    "start_time": "2024-11-22T13:48:08.999Z"
   },
   {
    "duration": 43,
    "start_time": "2024-11-22T13:48:09.027Z"
   },
   {
    "duration": 26,
    "start_time": "2024-11-22T13:48:09.072Z"
   },
   {
    "duration": 23,
    "start_time": "2024-11-22T13:48:09.100Z"
   },
   {
    "duration": 122,
    "start_time": "2024-11-22T13:48:09.125Z"
   },
   {
    "duration": 66,
    "start_time": "2024-11-22T13:48:09.249Z"
   },
   {
    "duration": 499,
    "start_time": "2024-11-22T13:48:09.317Z"
   },
   {
    "duration": 21,
    "start_time": "2024-11-22T13:48:09.818Z"
   },
   {
    "duration": 28,
    "start_time": "2024-11-22T13:48:09.842Z"
   },
   {
    "duration": 98,
    "start_time": "2024-11-22T13:48:09.872Z"
   },
   {
    "duration": 103,
    "start_time": "2024-11-22T13:48:09.972Z"
   },
   {
    "duration": 71993,
    "start_time": "2024-11-22T13:48:10.077Z"
   },
   {
    "duration": 59736,
    "start_time": "2024-11-22T13:49:22.072Z"
   },
   {
    "duration": 814,
    "start_time": "2024-11-22T14:31:15.238Z"
   },
   {
    "duration": 785,
    "start_time": "2024-11-22T14:31:30.196Z"
   },
   {
    "duration": 564,
    "start_time": "2024-11-22T14:31:30.983Z"
   },
   {
    "duration": 22,
    "start_time": "2024-11-22T14:31:31.549Z"
   },
   {
    "duration": 254,
    "start_time": "2024-11-22T14:31:31.573Z"
   },
   {
    "duration": 28,
    "start_time": "2024-11-22T14:31:31.830Z"
   },
   {
    "duration": 361,
    "start_time": "2024-11-22T14:31:31.870Z"
   },
   {
    "duration": 107,
    "start_time": "2024-11-22T14:31:32.233Z"
   },
   {
    "duration": 40,
    "start_time": "2024-11-22T14:31:32.342Z"
   },
   {
    "duration": 26,
    "start_time": "2024-11-22T14:31:32.384Z"
   },
   {
    "duration": 26,
    "start_time": "2024-11-22T14:31:32.413Z"
   },
   {
    "duration": 43,
    "start_time": "2024-11-22T14:31:32.440Z"
   },
   {
    "duration": 24,
    "start_time": "2024-11-22T14:31:32.484Z"
   },
   {
    "duration": 122,
    "start_time": "2024-11-22T14:31:32.510Z"
   },
   {
    "duration": 69,
    "start_time": "2024-11-22T14:31:32.634Z"
   },
   {
    "duration": 496,
    "start_time": "2024-11-22T14:31:32.704Z"
   },
   {
    "duration": 21,
    "start_time": "2024-11-22T14:31:33.202Z"
   },
   {
    "duration": 17,
    "start_time": "2024-11-22T14:31:33.225Z"
   },
   {
    "duration": 86,
    "start_time": "2024-11-22T14:31:33.244Z"
   },
   {
    "duration": 74,
    "start_time": "2024-11-22T14:31:33.332Z"
   },
   {
    "duration": 72275,
    "start_time": "2024-11-22T14:31:33.408Z"
   },
   {
    "duration": 110698,
    "start_time": "2024-11-22T14:32:45.685Z"
   },
   {
    "duration": 0,
    "start_time": "2024-11-22T14:34:36.385Z"
   },
   {
    "duration": 10,
    "start_time": "2024-11-22T15:05:19.527Z"
   },
   {
    "duration": 113,
    "start_time": "2024-11-22T15:05:31.958Z"
   },
   {
    "duration": 776,
    "start_time": "2024-11-22T15:05:42.926Z"
   },
   {
    "duration": 571,
    "start_time": "2024-11-22T15:05:43.704Z"
   },
   {
    "duration": 17,
    "start_time": "2024-11-22T15:05:44.277Z"
   },
   {
    "duration": 258,
    "start_time": "2024-11-22T15:05:44.296Z"
   },
   {
    "duration": 31,
    "start_time": "2024-11-22T15:05:44.555Z"
   },
   {
    "duration": 371,
    "start_time": "2024-11-22T15:05:44.588Z"
   },
   {
    "duration": 102,
    "start_time": "2024-11-22T15:05:44.969Z"
   },
   {
    "duration": 24,
    "start_time": "2024-11-22T15:05:45.073Z"
   },
   {
    "duration": 24,
    "start_time": "2024-11-22T15:05:45.099Z"
   },
   {
    "duration": 43,
    "start_time": "2024-11-22T15:05:45.127Z"
   },
   {
    "duration": 26,
    "start_time": "2024-11-22T15:05:45.171Z"
   },
   {
    "duration": 25,
    "start_time": "2024-11-22T15:05:45.198Z"
   },
   {
    "duration": 120,
    "start_time": "2024-11-22T15:05:45.224Z"
   },
   {
    "duration": 65,
    "start_time": "2024-11-22T15:05:45.346Z"
   },
   {
    "duration": 502,
    "start_time": "2024-11-22T15:05:45.413Z"
   },
   {
    "duration": 22,
    "start_time": "2024-11-22T15:05:45.917Z"
   },
   {
    "duration": 13,
    "start_time": "2024-11-22T15:05:45.941Z"
   },
   {
    "duration": 82,
    "start_time": "2024-11-22T15:05:45.956Z"
   },
   {
    "duration": 71,
    "start_time": "2024-11-22T15:05:46.040Z"
   },
   {
    "duration": 71772,
    "start_time": "2024-11-22T15:05:46.113Z"
   },
   {
    "duration": 1888238,
    "start_time": "2024-11-22T15:28:52.084Z"
   },
   {
    "duration": 3,
    "start_time": "2024-11-22T16:22:47.024Z"
   },
   {
    "duration": 1081139,
    "start_time": "2024-11-22T16:32:09.173Z"
   },
   {
    "duration": 4,
    "start_time": "2024-11-22T16:52:37.754Z"
   },
   {
    "duration": 2,
    "start_time": "2024-11-22T16:53:42.502Z"
   },
   {
    "duration": 733,
    "start_time": "2024-11-22T16:53:49.952Z"
   },
   {
    "duration": 513,
    "start_time": "2024-11-22T16:53:50.687Z"
   },
   {
    "duration": 19,
    "start_time": "2024-11-22T16:53:51.202Z"
   },
   {
    "duration": 267,
    "start_time": "2024-11-22T16:53:51.224Z"
   },
   {
    "duration": 27,
    "start_time": "2024-11-22T16:53:51.493Z"
   },
   {
    "duration": 387,
    "start_time": "2024-11-22T16:53:51.522Z"
   },
   {
    "duration": 104,
    "start_time": "2024-11-22T16:53:51.911Z"
   },
   {
    "duration": 25,
    "start_time": "2024-11-22T16:53:52.017Z"
   },
   {
    "duration": 37,
    "start_time": "2024-11-22T16:53:52.044Z"
   },
   {
    "duration": 28,
    "start_time": "2024-11-22T16:53:52.084Z"
   },
   {
    "duration": 26,
    "start_time": "2024-11-22T16:53:52.113Z"
   },
   {
    "duration": 40,
    "start_time": "2024-11-22T16:53:52.141Z"
   },
   {
    "duration": 119,
    "start_time": "2024-11-22T16:53:52.183Z"
   },
   {
    "duration": 72,
    "start_time": "2024-11-22T16:53:52.304Z"
   },
   {
    "duration": 494,
    "start_time": "2024-11-22T16:53:52.378Z"
   },
   {
    "duration": 20,
    "start_time": "2024-11-22T16:53:52.874Z"
   },
   {
    "duration": 14,
    "start_time": "2024-11-22T16:53:52.896Z"
   },
   {
    "duration": 89,
    "start_time": "2024-11-22T16:53:52.912Z"
   },
   {
    "duration": 76,
    "start_time": "2024-11-22T16:53:53.003Z"
   },
   {
    "duration": 72841,
    "start_time": "2024-11-22T16:53:53.083Z"
   },
   {
    "duration": 3,
    "start_time": "2024-11-22T16:55:05.925Z"
   },
   {
    "duration": 225,
    "start_time": "2024-11-22T16:55:05.929Z"
   },
   {
    "duration": 142086,
    "start_time": "2024-11-22T16:58:49.128Z"
   },
   {
    "duration": 25372,
    "start_time": "2024-11-22T17:04:05.799Z"
   },
   {
    "duration": 141653,
    "start_time": "2024-11-22T17:05:00.918Z"
   },
   {
    "duration": 3,
    "start_time": "2024-11-22T17:09:59.707Z"
   },
   {
    "duration": 2,
    "start_time": "2024-11-22T17:11:57.634Z"
   },
   {
    "duration": 3,
    "start_time": "2024-11-22T17:27:34.000Z"
   },
   {
    "duration": 1091,
    "start_time": "2024-11-22T17:29:41.847Z"
   },
   {
    "duration": 1097,
    "start_time": "2024-11-22T17:29:53.458Z"
   },
   {
    "duration": 1113,
    "start_time": "2024-11-22T17:30:30.008Z"
   },
   {
    "duration": 1106,
    "start_time": "2024-11-22T17:30:37.164Z"
   },
   {
    "duration": 123236,
    "start_time": "2024-11-22T17:40:52.704Z"
   },
   {
    "duration": 848,
    "start_time": "2024-11-22T17:46:10.608Z"
   },
   {
    "duration": 907,
    "start_time": "2024-11-22T17:46:37.717Z"
   },
   {
    "duration": 844,
    "start_time": "2024-11-22T17:46:47.155Z"
   },
   {
    "duration": 815,
    "start_time": "2024-11-22T17:47:02.632Z"
   },
   {
    "duration": 824,
    "start_time": "2024-11-22T17:47:10.311Z"
   },
   {
    "duration": 763,
    "start_time": "2024-11-22T17:47:14.789Z"
   },
   {
    "duration": 725,
    "start_time": "2024-11-22T17:47:18.403Z"
   },
   {
    "duration": 538,
    "start_time": "2024-11-22T17:47:22.206Z"
   },
   {
    "duration": 749,
    "start_time": "2024-11-22T17:47:26.243Z"
   },
   {
    "duration": 703,
    "start_time": "2024-11-22T17:47:29.953Z"
   },
   {
    "duration": 736,
    "start_time": "2024-11-22T17:47:33.675Z"
   },
   {
    "duration": 766,
    "start_time": "2024-11-22T17:47:37.157Z"
   },
   {
    "duration": 784,
    "start_time": "2024-11-22T17:47:41.556Z"
   },
   {
    "duration": 762,
    "start_time": "2024-11-22T17:47:45.084Z"
   },
   {
    "duration": 50,
    "start_time": "2024-11-22T18:01:38.904Z"
   },
   {
    "duration": 3,
    "start_time": "2024-11-22T18:01:51.907Z"
   },
   {
    "duration": 3,
    "start_time": "2024-11-22T18:01:55.579Z"
   },
   {
    "duration": 3,
    "start_time": "2024-11-22T18:02:08.146Z"
   },
   {
    "duration": 3,
    "start_time": "2024-11-22T18:02:21.619Z"
   },
   {
    "duration": 3958,
    "start_time": "2024-11-22T18:13:22.731Z"
   },
   {
    "duration": 20,
    "start_time": "2024-11-22T18:14:37.311Z"
   },
   {
    "duration": 60,
    "start_time": "2024-11-22T18:14:45.870Z"
   },
   {
    "duration": 8894,
    "start_time": "2024-11-22T18:14:54.280Z"
   },
   {
    "duration": 13941,
    "start_time": "2024-11-22T18:15:23.246Z"
   },
   {
    "duration": 23579,
    "start_time": "2024-11-22T18:15:59.195Z"
   },
   {
    "duration": 17,
    "start_time": "2024-11-22T18:26:31.466Z"
   },
   {
    "duration": 3,
    "start_time": "2024-11-22T18:26:53.887Z"
   },
   {
    "duration": 223822,
    "start_time": "2024-11-22T18:30:26.200Z"
   },
   {
    "duration": 167780,
    "start_time": "2024-11-22T18:40:10.522Z"
   },
   {
    "duration": 5090,
    "start_time": "2024-11-22T18:46:09.263Z"
   },
   {
    "duration": 2032,
    "start_time": "2024-11-22T18:46:59.193Z"
   },
   {
    "duration": 59122,
    "start_time": "2024-11-22T18:47:20.963Z"
   },
   {
    "duration": 155892,
    "start_time": "2024-11-22T18:48:39.487Z"
   },
   {
    "duration": 20876,
    "start_time": "2024-11-22T18:54:03.098Z"
   },
   {
    "duration": 68417,
    "start_time": "2024-11-22T18:55:10.068Z"
   },
   {
    "duration": 11663,
    "start_time": "2024-11-22T18:56:27.127Z"
   },
   {
    "duration": 56961,
    "start_time": "2024-11-22T18:57:25.422Z"
   },
   {
    "duration": 1684,
    "start_time": "2024-11-22T18:58:40.200Z"
   },
   {
    "duration": 112729,
    "start_time": "2024-11-22T18:58:59.249Z"
   },
   {
    "duration": 4776,
    "start_time": "2024-11-22T19:01:00.295Z"
   },
   {
    "duration": 9212,
    "start_time": "2024-11-22T19:01:10.858Z"
   },
   {
    "duration": 18538,
    "start_time": "2024-11-22T19:01:28.433Z"
   },
   {
    "duration": 35529,
    "start_time": "2024-11-22T19:02:12.955Z"
   },
   {
    "duration": 17989,
    "start_time": "2024-11-22T19:02:59.736Z"
   },
   {
    "duration": 1101310,
    "start_time": "2024-11-22T19:03:31.761Z"
   },
   {
    "duration": 30870,
    "start_time": "2024-11-22T19:22:10.200Z"
   },
   {
    "duration": 2,
    "start_time": "2024-11-22T19:23:33.440Z"
   },
   {
    "duration": 2,
    "start_time": "2024-11-22T19:25:24.261Z"
   },
   {
    "duration": 59,
    "start_time": "2024-11-22T19:26:55.925Z"
   },
   {
    "duration": 135,
    "start_time": "2024-11-22T19:31:51.966Z"
   },
   {
    "duration": 1196,
    "start_time": "2024-11-22T19:32:14.609Z"
   },
   {
    "duration": 31146,
    "start_time": "2024-11-22T19:32:54.232Z"
   },
   {
    "duration": 31261,
    "start_time": "2024-11-22T19:33:45.165Z"
   },
   {
    "duration": 27,
    "start_time": "2024-11-22T19:36:48.241Z"
   },
   {
    "duration": 26,
    "start_time": "2024-11-22T19:39:14.112Z"
   },
   {
    "duration": 26,
    "start_time": "2024-11-22T19:39:49.595Z"
   },
   {
    "duration": 53,
    "start_time": "2024-11-22T19:42:41.236Z"
   },
   {
    "duration": 22490,
    "start_time": "2024-11-22T19:43:22.665Z"
   },
   {
    "duration": 22525,
    "start_time": "2024-11-22T19:45:09.211Z"
   },
   {
    "duration": 22462,
    "start_time": "2024-11-22T19:48:13.266Z"
   },
   {
    "duration": 22090,
    "start_time": "2024-11-22T19:48:48.105Z"
   },
   {
    "duration": 92,
    "start_time": "2024-11-22T19:50:43.951Z"
   },
   {
    "duration": 141,
    "start_time": "2024-11-22T19:51:04.912Z"
   },
   {
    "duration": 863,
    "start_time": "2024-11-22T19:51:16.848Z"
   },
   {
    "duration": 575,
    "start_time": "2024-11-22T19:51:17.714Z"
   },
   {
    "duration": 17,
    "start_time": "2024-11-22T19:51:18.291Z"
   },
   {
    "duration": 267,
    "start_time": "2024-11-22T19:51:18.311Z"
   },
   {
    "duration": 26,
    "start_time": "2024-11-22T19:51:18.580Z"
   },
   {
    "duration": 373,
    "start_time": "2024-11-22T19:51:18.608Z"
   },
   {
    "duration": 104,
    "start_time": "2024-11-22T19:51:18.983Z"
   },
   {
    "duration": 26,
    "start_time": "2024-11-22T19:51:19.089Z"
   },
   {
    "duration": 25,
    "start_time": "2024-11-22T19:51:19.116Z"
   },
   {
    "duration": 42,
    "start_time": "2024-11-22T19:51:19.145Z"
   },
   {
    "duration": 24,
    "start_time": "2024-11-22T19:51:19.189Z"
   },
   {
    "duration": 25,
    "start_time": "2024-11-22T19:51:19.215Z"
   },
   {
    "duration": 129,
    "start_time": "2024-11-22T19:51:19.242Z"
   },
   {
    "duration": 61,
    "start_time": "2024-11-22T19:51:19.373Z"
   },
   {
    "duration": 512,
    "start_time": "2024-11-22T19:51:19.436Z"
   },
   {
    "duration": 25,
    "start_time": "2024-11-22T19:51:19.950Z"
   },
   {
    "duration": 14,
    "start_time": "2024-11-22T19:51:19.978Z"
   },
   {
    "duration": 82,
    "start_time": "2024-11-22T19:51:19.994Z"
   },
   {
    "duration": 103,
    "start_time": "2024-11-22T19:51:20.078Z"
   },
   {
    "duration": 3,
    "start_time": "2024-11-22T19:51:20.183Z"
   },
   {
    "duration": 144265,
    "start_time": "2024-11-22T19:51:20.187Z"
   },
   {
    "duration": 344,
    "start_time": "2024-11-22T19:53:44.454Z"
   },
   {
    "duration": 0,
    "start_time": "2024-11-22T19:53:44.800Z"
   },
   {
    "duration": 0,
    "start_time": "2024-11-22T19:53:44.801Z"
   },
   {
    "duration": 0,
    "start_time": "2024-11-22T19:53:44.803Z"
   },
   {
    "duration": 0,
    "start_time": "2024-11-22T19:53:44.804Z"
   },
   {
    "duration": 0,
    "start_time": "2024-11-22T19:53:44.805Z"
   },
   {
    "duration": 86283,
    "start_time": "2024-11-22T19:54:27.683Z"
   },
   {
    "duration": 0,
    "start_time": "2024-11-22T19:55:53.970Z"
   },
   {
    "duration": 4,
    "start_time": "2024-11-22T19:56:07.776Z"
   },
   {
    "duration": 2,
    "start_time": "2024-11-22T19:56:18.389Z"
   },
   {
    "duration": 820,
    "start_time": "2024-11-22T19:56:22.704Z"
   },
   {
    "duration": 30130,
    "start_time": "2024-11-22T19:56:37.642Z"
   },
   {
    "duration": 31114,
    "start_time": "2024-11-22T19:57:17.103Z"
   },
   {
    "duration": 26149,
    "start_time": "2024-11-22T19:57:54.225Z"
   },
   {
    "duration": 21964,
    "start_time": "2024-11-22T19:58:41.077Z"
   },
   {
    "duration": 28654,
    "start_time": "2024-11-22T19:59:11.278Z"
   },
   {
    "duration": 26377,
    "start_time": "2024-11-22T19:59:49.212Z"
   },
   {
    "duration": 26376,
    "start_time": "2024-11-22T20:00:23.504Z"
   },
   {
    "duration": 26090,
    "start_time": "2024-11-22T20:00:57.657Z"
   },
   {
    "duration": 26145,
    "start_time": "2024-11-22T20:01:33.878Z"
   },
   {
    "duration": 26163,
    "start_time": "2024-11-22T20:02:08.407Z"
   },
   {
    "duration": 26038,
    "start_time": "2024-11-22T20:03:19.877Z"
   },
   {
    "duration": 26065,
    "start_time": "2024-11-22T20:03:57.052Z"
   },
   {
    "duration": 26101,
    "start_time": "2024-11-22T20:04:34.647Z"
   },
   {
    "duration": 30701,
    "start_time": "2024-11-22T20:05:09.212Z"
   },
   {
    "duration": 3,
    "start_time": "2024-11-22T20:08:46.921Z"
   }
  ],
  "kernelspec": {
   "display_name": "Python 3 (ipykernel)",
   "language": "python",
   "name": "python3"
  },
  "language_info": {
   "codemirror_mode": {
    "name": "ipython",
    "version": 3
   },
   "file_extension": ".py",
   "mimetype": "text/x-python",
   "name": "python",
   "nbconvert_exporter": "python",
   "pygments_lexer": "ipython3",
   "version": "3.9.19"
  },
  "toc": {
   "base_numbering": 1,
   "nav_menu": {},
   "number_sections": true,
   "sideBar": true,
   "skip_h1_title": true,
   "title_cell": "Table of Contents",
   "title_sidebar": "Contents",
   "toc_cell": false,
   "toc_position": {
    "height": "calc(100% - 180px)",
    "left": "10px",
    "top": "150px",
    "width": "284.797px"
   },
   "toc_section_display": true,
   "toc_window_display": false
  }
 },
 "nbformat": 4,
 "nbformat_minor": 2
}
